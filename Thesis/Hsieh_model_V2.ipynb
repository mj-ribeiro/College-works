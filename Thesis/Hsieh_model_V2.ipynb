{
 "cells": [
  {
   "cell_type": "code",
   "execution_count": 1,
   "metadata": {},
   "outputs": [],
   "source": [
    "import os\n",
    "os.getcwd()\n",
    "os.chdir('D:\\\\Git projects\\\\college_works\\\\Thesis')\n",
    "\n",
    "import numpy as np\n",
    "import matplotlib.pyplot as plt\n",
    "from scipy.optimize import minimize\n",
    "from math import gamma\n",
    "import time\n",
    "import pandas as pd"
   ]
  },
  {
   "cell_type": "code",
   "execution_count": 2,
   "metadata": {},
   "outputs": [],
   "source": [
    "def par():\n",
    "    global beta, eta, varphi, theta, rho, i, r, gamma1, phi, kappa, alfa, psi, sig, pi, nu\n",
    "    beta = 0.69\n",
    "    eta = 0.25\n",
    "    varphi = 0.25\n",
    "    theta = 3.44\n",
    "    rho = 0.19\n",
    "    alfa = 0.6\n",
    "    kappa = np.divide(1, (1- eta) )\n",
    "    nu = 1 + np.multiply(alfa, np.multiply(varphi, kappa)) - np.divide(kappa, theta)\n",
    "    pi = 1 - np.multiply(np.multiply( (1 - alfa), varphi), kappa )    \n",
    "    sig = np.divide(np.multiply(eta, kappa), pi )\n",
    "    psi = np.multiply(np.power(eta, eta), np.power( (1-eta), (1-eta) ) )\n",
    "    i = 7\n",
    "    r = 27\n",
    "    gamma1 = gamma(   1 - np.multiply( np.divide(1, np.multiply(theta, (1-rho)) ), np.divide(1, (1 - eta) ) ) )   \n",
    "    phi = np.array([0.138, 0.174, 0.136, 0.1, 0.051, 0.084, 0.168]).reshape(i, 1)"
   ]
  },
  {
   "cell_type": "code",
   "execution_count": 3,
   "metadata": {},
   "outputs": [],
   "source": [
    "\n",
    "def taus2():\n",
    "    par()\n",
    "        \n",
    "    tau_h = np.random.uniform(low=-0.99, high=40, size=(i,r))\n",
    "    tau_h[0, :] = 0\n",
    "\n",
    "    tau_w = np.random.uniform(low=-0.99, high=0.999, size=(i,r))\n",
    "    tau_w[0, : ] = tau_w[0, 0]\n",
    "    \n",
    "    w =np.random.uniform(low=0.001, high=30, size=(i,r))\n",
    "    w[0, r-1] = 1\n",
    "    #w[1:6, :] = w[0, :] \n",
    "    \n",
    "    x1 = np.array([tau_w, tau_h, w])\n",
    "    \n",
    "    return x1\n",
    "\n",
    "x1 = taus2()"
   ]
  },
  {
   "cell_type": "code",
   "execution_count": 4,
   "metadata": {},
   "outputs": [],
   "source": [
    "def sf( ):\n",
    "    global s\n",
    "    s = np.power( (1+ np.divide( (1-eta), ( np.multiply(beta, phi) ) ) ), -1 )\n",
    "    s = s.reshape(i, 1)\n",
    "    return s"
   ]
  },
  {
   "cell_type": "code",
   "execution_count": 5,
   "metadata": {},
   "outputs": [],
   "source": [
    "def p_trf(x1):    \n",
    "    s = sf( )    \n",
    "    A = np.divide( (1 - x1[0]) , np.power( ( 1 + x1[1] ), eta) )     \n",
    "    b = np.power(s, phi ) \n",
    "    B = np.multiply(b.reshape(i,1), x1[2] )     \n",
    "    C = np.power( (1 - s), np.divide((1-eta), beta) )\n",
    "    d = np.multiply(np.multiply(A, B), C )\n",
    "    k = np.power(d, theta)\n",
    "    p_tr = np.divide( k[i-1], np.sum(k, axis=0) )\n",
    "    return p_tr\n",
    " "
   ]
  },
  {
   "cell_type": "code",
   "execution_count": 6,
   "metadata": {},
   "outputs": [],
   "source": [
    "  \n",
    "def H_trf(x1):    \n",
    "    p_tr = p_trf(x1)  \n",
    "    A = np.power(np.multiply( np.divide( (1 - x1[0]), (1 + x1[1]) ), x1[2] ), sig )    \n",
    "    A = A[i-1]     \n",
    "    P = np.multiply(np.power(p_tr, ( np.divide(nu, pi) )), np.power(eta, sig ) )\n",
    "    g = np.divide(np.multiply(phi[i-1], kappa ), pi )\n",
    "    C = np.multiply( np.power(s[i-1], g ), np.power(gamma1, np.divide(1, pi) ) )\n",
    "    H_tr = np.multiply(np.multiply(P, A), C )       \n",
    "    return H_tr"
   ]
  },
  {
   "cell_type": "code",
   "execution_count": 7,
   "metadata": {},
   "outputs": [],
   "source": [
    "def w_tilf(x1):\n",
    "    H_tr = H_trf(x1) \n",
    "    p_tr = p_trf(x1)                 \n",
    "    C = np.power((1 - s), np.divide( (1-eta), beta )).reshape(7, 1)\n",
    "    pp = np.power(s, phi)        \n",
    "    A = np.multiply(psi, np.multiply( np.divide( (1 - x1[0]), np.power( (1 + x1[1]), eta ) ), x1[2] ) )    \n",
    "    b = np.power(np.multiply(np.power(p_tr, alfa), np.power(H_tr, (1-alfa) ) ), varphi )    \n",
    "    B = np.multiply(b, pp.reshape(7,1))\n",
    "    w_til =  np.multiply(np.multiply(A, B), C )\n",
    "    return w_til "
   ]
  },
  {
   "cell_type": "code",
   "execution_count": 8,
   "metadata": {},
   "outputs": [],
   "source": [
    "\n",
    "def p_irf(x1):    \n",
    "    w_til = w_tilf(x1)\n",
    "    w_til2 = np.power(w_til, theta) \n",
    "    w_r = w_til2.sum(axis = 0)    \n",
    "    p_ir = np.divide(w_til2 , w_r ) \n",
    "    return np.array(p_ir), np.array(w_r)"
   ]
  },
  {
   "cell_type": "code",
   "execution_count": 9,
   "metadata": {},
   "outputs": [],
   "source": [
    "def Wf(x1):\n",
    "    p_ir, w_r = p_irf(x1)         \n",
    "    z = np.multiply(np.multiply(gamma1, eta), np.power(w_r, np.divide(1, np.multiply(theta, (1 - eta)) ) ) )\n",
    "    A = np.divide( np.power( (1 - s), (-1/beta) ), ( 1 - x1[0] )  )                \n",
    "    W = np.multiply(A, z)\n",
    "    return W, p_ir"
   ]
  },
  {
   "cell_type": "code",
   "execution_count": 10,
   "metadata": {},
   "outputs": [],
   "source": [
    "\n",
    "def simul():\n",
    "    global p_t, W_t\n",
    "    p_t = pd.read_csv('pt.csv', sep=';')\n",
    "    p_t = p_t.iloc[0:7]\n",
    "    p_t.set_index('ocup', inplace=True)\n",
    "    p_t = np.array(p_t)\n",
    "    W_t = pd.read_csv('wt.csv', sep=';')\n",
    "    W_t.set_index('ocup', inplace=True)\n",
    "    W_t = np.array(W_t)\n",
    "    \n",
    "    return p_t, W_t\n",
    "\n",
    "simul();"
   ]
  },
  {
   "cell_type": "code",
   "execution_count": 11,
   "metadata": {},
   "outputs": [],
   "source": [
    "\n",
    "\n",
    "p_t2 = np.array(p_t[0:6])\n",
    "    \n",
    "def obj2(x1):       \n",
    "    x1 = x1.reshape((3, i, r)) \n",
    "    x1[0, 0, : ] = x1[0, 0, 0]    \n",
    "    x1[1, 0, :] = 0\n",
    "    x1[2, :, 16] = 8\n",
    "    x1[2, 0:7, :] = x1[2, 0, :]\n",
    "    W, p_ir = Wf(x1)    \n",
    "    p_ir = p_ir[0:6]\n",
    "    D =   (np.power(np.divide( (W-W_t), W_t ), 2)).sum() + (np.power(np.divide( (p_ir-p_t2), p_t2 ), 2)).sum() \n",
    "    D = np.log(D)    \n",
    "    return D"
   ]
  },
  {
   "cell_type": "code",
   "execution_count": 12,
   "metadata": {},
   "outputs": [],
   "source": [
    "#%time obj2(np.vstack(taus2()).flatten())\n",
    "%time obj2(taus2())"
   ]
  },
  {
   "cell_type": "code",
   "execution_count": 13,
   "metadata": {},
   "outputs": [],
   "source": [
    "# optimization give me z1 array\n",
    "\n",
    "z1 = pd.read_excel('MG_8.xlsx')\n",
    "z1 = np.array(z1).reshape(3, i, r)\n",
    "\n",
    "\n",
    "obj2(z1)"
   ]
  },
  {
   "cell_type": "code",
   "execution_count": 14,
   "metadata": {},
   "outputs": [],
   "source": [
    "def h_tilf(x1):\n",
    "    H_tr = H_trf(x1) \n",
    "    p_tr = p_trf(x1) \n",
    "    A = np.power(np.multiply(np.power(p_tr, alfa), np.power(H_tr, (1-alfa) ) ), varphi )    \n",
    "    B = np.multiply(np.power(s, phi), np.power(eta, eta) )\n",
    "    h_til = np.power(np.multiply(A, B), kappa )\n",
    "    return h_til"
   ]
  },
  {
   "cell_type": "code",
   "execution_count": 15,
   "metadata": {},
   "outputs": [],
   "source": [
    "def H_irf(x1):\n",
    "    p_ir = p_irf(x1)[0]\n",
    "    h_til = h_tilf(x1)\n",
    "    A = np.multiply(h_til, np.power(p_ir, (1-kappa/theta) ) )\n",
    "    B = np.power(np.multiply( np.divide( (1 - x1[0]), (1 + x1[1]) ), x1[2] ), np.multiply(eta, kappa ) )       \n",
    "    H_ir = np.multiply(np.multiply(A, B), gamma1 )\n",
    "    return H_ir\n",
    "    \n",
    "    "
   ]
  },
  {
   "cell_type": "code",
   "execution_count": 16,
   "metadata": {},
   "outputs": [],
   "source": [
    "\n",
    "\n",
    "def Y_f(x1):\n",
    "    H_ir = H_irf(x1) \n",
    "    Y = np.multiply(x1[2, 0, :], H_ir)\n",
    "    return Y\n",
    "\n",
    "\n",
    "    "
   ]
  },
  {
   "cell_type": "code",
   "execution_count": 17,
   "metadata": {},
   "outputs": [],
   "source": [
    "\n",
    "# Model\n",
    "\n",
    "W, p_ir = Wf(z1.reshape(3, i, r))\n",
    "W = pd.DataFrame(W)\n",
    "p_ir = pd.DataFrame(p_ir)\n",
    "\n",
    " \n",
    "# PNAD data\n",
    "\n",
    "p_t, W_t = simul()   \n",
    "W_t =  pd.DataFrame(W_t)\n",
    "p_t =  pd.DataFrame(p_t)\n",
    "\n",
    "\n",
    "# get colnames\n",
    "\n",
    "n = pd.read_csv('pt.csv', sep=';')\n",
    "n = n.iloc[0:7]\n",
    "n.set_index('ocup', inplace=True)\n",
    "names = n.columns.str.strip(\"'\")\n",
    "names  = np.array(names).repeat(7) \n",
    "\n",
    "\n",
    "\n",
    "p_t = p_t.values.flatten() \n",
    "p_ir = p_ir.values.flatten()\n",
    "\n",
    "W = W.values.flatten()\n",
    "W_t = W_t.values.flatten()"
   ]
  },
  {
   "cell_type": "code",
   "execution_count": 18,
   "metadata": {},
   "outputs": [],
   "source": [
    "# plots\n",
    "\n",
    "### W and W_ir\n",
    "\n",
    "W_t =  pd.DataFrame(W_t)\n",
    "W = pd.DataFrame(W)\n",
    "\n",
    "\n",
    "W = W.values.flatten()\n",
    "W_t = W_t.values.flatten()\n",
    "\n",
    "\n",
    "ocn1 = ['Managers','Sciences and arts','Middle-level technicians','Service-sector','Agriculture',\n",
    "       'Industrial production and services','Teachers']\n",
    "ocn1 = np.array(ocn1, dtype=object).repeat(27)\n",
    "\n",
    "dd = pd.DataFrame(dict(x=W, y=W_t, label=ocn1))\n",
    "groups = dd.groupby('label')\n",
    "\n",
    "\n",
    "## p_ir and p_t\n",
    "\n",
    "p_t =  pd.DataFrame(p_t)\n",
    "p_ir = pd.DataFrame(p_ir)\n",
    "\n",
    "\n",
    "p_t = p_t.values.flatten() \n",
    "p_ir = p_ir.values.flatten()\n",
    "\n",
    "ocn = ['Managers','Sciences and arts','Middle-level technicians','Service-sector','Agriculture',\n",
    "       'Industrial production and services','Teachers']\n",
    "\n",
    "\n",
    "ocn = np.array(ocn, dtype=object).repeat(27)\n",
    "\n",
    "\n",
    "ff = pd.DataFrame(dict(x=p_ir, y=p_t, label=ocn))\n",
    "groups2 = ff.groupby('label')"
   ]
  },
  {
   "cell_type": "code",
   "execution_count": 19,
   "metadata": {},
   "outputs": [],
   "source": [
    "z1"
   ]
  },
  {
   "cell_type": "code",
   "execution_count": 20,
   "metadata": {},
   "outputs": [],
   "source": [
    "# tw, th, w, \n",
    "\n",
    "tau_w = z1[0]"
   ]
  },
  {
   "cell_type": "code",
   "execution_count": 21,
   "metadata": {},
   "outputs": [],
   "source": [
    "# tw, th, w, \n",
    "\n",
    "tau_w = z1[0]"
   ]
  },
  {
   "cell_type": "code",
   "execution_count": 22,
   "metadata": {},
   "outputs": [],
   "source": [
    "names"
   ]
  },
  {
   "cell_type": "code",
   "execution_count": 23,
   "metadata": {},
   "outputs": [],
   "source": [
    "n"
   ]
  },
  {
   "cell_type": "code",
   "execution_count": 24,
   "metadata": {},
   "outputs": [],
   "source": [
    "n = pd.read_csv('pt.csv', sep=';')\n",
    "n = n.iloc[0:7]\n",
    "n.set_index('ocup', inplace=True)\n",
    "names2 = n.columns.str.strip(\"'\")"
   ]
  },
  {
   "cell_type": "code",
   "execution_count": 25,
   "metadata": {},
   "outputs": [],
   "source": [
    "# tw, th, w, \n",
    "n = pd.read_csv('pt.csv', sep=';')\n",
    "n = n.iloc[0:7]\n",
    "n.set_index('ocup', inplace=True)\n",
    "names2 = n.columns.str.strip(\"'\")\n",
    "\n",
    "\n",
    "tau_w = pd.DataFrame(z1[0])\n",
    "tau_w.columns = names2"
   ]
  },
  {
   "cell_type": "code",
   "execution_count": 26,
   "metadata": {},
   "outputs": [],
   "source": [
    "# tw, th, w, \n",
    "n = pd.read_csv('pt.csv', sep=';')\n",
    "n = n.iloc[0:7]\n",
    "n.set_index('ocup', inplace=True)\n",
    "names2 = n.columns.str.strip(\"'\")\n",
    "\n",
    "\n",
    "tau_w = pd.DataFrame(z1[0], index=ocn, columns= names2)"
   ]
  },
  {
   "cell_type": "code",
   "execution_count": 27,
   "metadata": {},
   "outputs": [],
   "source": [
    "# tw, th, w, \n",
    "n = pd.read_csv('pt.csv', sep=';')\n",
    "n = n.iloc[0:7]\n",
    "n.set_index('ocup', inplace=True)\n",
    "names2 = n.columns.str.strip(\"'\")\n",
    "ocup = ['Managers','Sciences and arts','Middle-level technicians','Service-sector','Agriculture',\n",
    "       'Industrial production and services','Teachers']\n",
    "\n",
    "tau_w = pd.DataFrame(z1[0], index=ocup, columns= names2)"
   ]
  },
  {
   "cell_type": "code",
   "execution_count": 28,
   "metadata": {},
   "outputs": [],
   "source": [
    "z1[2]"
   ]
  },
  {
   "cell_type": "code",
   "execution_count": 29,
   "metadata": {},
   "outputs": [],
   "source": [
    "z1[2][0]"
   ]
  },
  {
   "cell_type": "code",
   "execution_count": 30,
   "metadata": {},
   "outputs": [],
   "source": [
    "z1[2,0]"
   ]
  },
  {
   "cell_type": "code",
   "execution_count": 31,
   "metadata": {},
   "outputs": [],
   "source": [
    "# tw, th, w, \n",
    "n = pd.read_csv('pt.csv', sep=';')\n",
    "n = n.iloc[0:7]\n",
    "n.set_index('ocup', inplace=True)\n",
    "names2 = n.columns.str.strip(\"'\")\n",
    "ocup = ['Managers','Sciences and arts','Middle-level technicians','Service-sector','Agriculture',\n",
    "       'Industrial production and services','Teachers']\n",
    "\n",
    "tau_w = pd.DataFrame(z1[0], index=ocup, columns= names2)\n",
    "tau_h = pd.DataFrame(z1[1], index=ocup, columns= names2)\n",
    "tfp = pd.DataFrame(z1[2,0], columns=names2)"
   ]
  },
  {
   "cell_type": "code",
   "execution_count": 32,
   "metadata": {},
   "outputs": [],
   "source": [
    "# tw, th, w, \n",
    "n = pd.read_csv('pt.csv', sep=';')\n",
    "n = n.iloc[0:7]\n",
    "n.set_index('ocup', inplace=True)\n",
    "names2 = n.columns.str.strip(\"'\")\n",
    "ocup = ['Managers','Sciences and arts','Middle-level technicians','Service-sector','Agriculture',\n",
    "       'Industrial production and services','Teachers']\n",
    "\n",
    "tau_w = pd.DataFrame(z1[0], index=ocup, columns= names2)\n",
    "tau_h = pd.DataFrame(z1[1], index=ocup, columns= names2)\n",
    "#tfp = pd.DataFrame(z1[2,0], columns=names2)"
   ]
  },
  {
   "cell_type": "code",
   "execution_count": 33,
   "metadata": {},
   "outputs": [],
   "source": [
    "tfp = pd.DataFrame(z1[2,0], columns=names2)"
   ]
  },
  {
   "cell_type": "code",
   "execution_count": 34,
   "metadata": {},
   "outputs": [],
   "source": [
    "#tfp = pd.DataFrame(z1[2,0], columns=names2)\n",
    "names2"
   ]
  },
  {
   "cell_type": "code",
   "execution_count": 35,
   "metadata": {},
   "outputs": [],
   "source": [
    "tfp = pd.DataFrame(z1[2,0], columns=names2)\n",
    "#names2"
   ]
  },
  {
   "cell_type": "code",
   "execution_count": 36,
   "metadata": {},
   "outputs": [],
   "source": [
    "#tfp = pd.DataFrame(z1[2,0], columns=names2)\n",
    "#names2\n",
    "\n",
    "z1[2,0].shape()"
   ]
  },
  {
   "cell_type": "code",
   "execution_count": 37,
   "metadata": {},
   "outputs": [],
   "source": [
    "#tfp = pd.DataFrame(z1[2,0], columns=names2)\n",
    "#names2\n",
    "\n",
    "z1[2,0].shape"
   ]
  },
  {
   "cell_type": "code",
   "execution_count": 38,
   "metadata": {},
   "outputs": [],
   "source": [
    "#tfp = pd.DataFrame(z1[2,0], columns=names2)\n",
    "#names2\n",
    "\n",
    "z1[2][0].shape"
   ]
  },
  {
   "cell_type": "code",
   "execution_count": 39,
   "metadata": {},
   "outputs": [],
   "source": [
    "#tfp = pd.DataFrame(z1[2,0], columns=names2)\n",
    "#names2\n",
    "\n",
    "z1[2][0].reshape(27)"
   ]
  },
  {
   "cell_type": "code",
   "execution_count": 40,
   "metadata": {},
   "outputs": [],
   "source": [
    "#tfp = pd.DataFrame(z1[2,0], columns=names2)\n",
    "#names2\n",
    "\n",
    "z1[2][0].reshape(27).shape()"
   ]
  },
  {
   "cell_type": "code",
   "execution_count": 41,
   "metadata": {},
   "outputs": [],
   "source": [
    "#tfp = pd.DataFrame(z1[2,0], columns=names2)\n",
    "#names2\n",
    "\n",
    "z1[2][0].reshape(27).shape"
   ]
  },
  {
   "cell_type": "code",
   "execution_count": 42,
   "metadata": {},
   "outputs": [],
   "source": [
    "#tfp = pd.DataFrame(z1[2,0], columns=names2)\n",
    "#names2\n",
    "\n",
    "z1[2][0].reshape(1, 27).shape"
   ]
  },
  {
   "cell_type": "code",
   "execution_count": 43,
   "metadata": {},
   "outputs": [],
   "source": [
    "tfp = pd.DataFrame(z1[2][0].reshape(1, 27), columns=names2)\n",
    "#names2"
   ]
  },
  {
   "cell_type": "code",
   "execution_count": 44,
   "metadata": {},
   "outputs": [],
   "source": [
    "tau_w"
   ]
  },
  {
   "cell_type": "code",
   "execution_count": 45,
   "metadata": {},
   "outputs": [],
   "source": [
    "print(tau_w.to_latex(index=True))"
   ]
  },
  {
   "cell_type": "code",
   "execution_count": 46,
   "metadata": {},
   "outputs": [],
   "source": [
    "print(tau_w.round(4).to_latex(index=True))"
   ]
  },
  {
   "cell_type": "code",
   "execution_count": 47,
   "metadata": {},
   "outputs": [],
   "source": [
    "print(tau_w.round(4).transpose().to_latex(index=True))"
   ]
  },
  {
   "cell_type": "code",
   "execution_count": 48,
   "metadata": {},
   "outputs": [],
   "source": [
    "print(tau_h.round(4).transpose().to_latex(index=True))"
   ]
  },
  {
   "cell_type": "code",
   "execution_count": 49,
   "metadata": {},
   "outputs": [],
   "source": [
    "print(tfp.round(4).transpose().to_latex(index=True))"
   ]
  },
  {
   "cell_type": "code",
   "execution_count": 50,
   "metadata": {},
   "outputs": [],
   "source": [
    "#print(tfp.round(4).transpose().to_latex(index=True))"
   ]
  },
  {
   "cell_type": "code",
   "execution_count": 51,
   "metadata": {},
   "outputs": [],
   "source": [
    "    \n",
    "fig, ax = plt.subplots(1, 2, figsize=(14,8))  \n",
    "\n",
    "ax[0].plot(bb, pct(Htr_th), label=r'$H_{tr}$', color='blue', marker='o')\n",
    "ax[0].tick_params(axis='both', which='major', labelsize=20)\n",
    "ax[0].grid(True)\n",
    "ax[0].set_xlabel(r\"Increases in $\\tau^h_{tr}$ \", fontsize=20)\n",
    "ax[0].set_ylabel('Percentage change in $H_{tr}$', fontsize=20)\n",
    "ax[0].legend(loc=\"lower left\", prop={'size': 20})\n",
    "ax[0].set_title('(a)', fontsize=20)\n",
    "ax[0].set_xlim([0, 0.6])\n",
    "ax2 =ax[0].twinx()\n",
    "ax2.plot(bb, pct(ptr_th),  label=r'$p_{tr}$', color='red', marker='x')\n",
    "ax2.set_ylabel(r\"Percentage change in $p_{tr}$\", fontsize=18)\n",
    "plt.legend(loc=\"upper right\", prop={'size': 16})\n",
    "plt.yticks(fontsize=20)\n",
    "\n",
    "\n",
    "\n",
    "\n",
    "\n",
    "ax[1].plot(bb, pct(Htr_tw), label=r'$H_{tr}$', color='blue', marker='o')\n",
    "ax[1].tick_params(axis='both', which='major', labelsize=20)\n",
    "ax[1].set_xlabel(r\"Increases in $\\tau^w_{tr}$ \", fontsize=20)\n",
    "ax[1].set_ylabel('Percentage change in $H_{tr}$', fontsize=20)\n",
    "ax[1].grid(True)\n",
    "ax[1].legend(loc=\"lower left\", prop={'size': 20})\n",
    "ax[1].set_title('(b)', fontsize=20)\n",
    "ax[1].set_xlim([0, 0.6])\n",
    "ax3 =ax[1].twinx()\n",
    "ax3.plot(bb, pct(ptr_tw),  label=r'$p_{tr}$', color='red', marker='x')\n",
    "ax3.set_ylabel(r\"Percentage change in $p_{tr}$\", fontsize=18)\n",
    "plt.legend(loc=\"upper right\", prop={'size': 16})\n",
    "plt.yticks(fontsize=20)\n",
    "\n",
    "plt.tight_layout()    \n",
    "#plt.savefig(\"D:/DOUTORADO/Topics in macro/paper_tex/F2.eps\", format='eps', dpi=1200)"
   ]
  },
  {
   "cell_type": "code",
   "execution_count": 52,
   "metadata": {},
   "outputs": [],
   "source": [
    "# increases in t^w\n",
    "\n",
    "par()\n",
    "\n",
    "bb = np.arange(0, 0.61, 0.05)\n",
    "n = len(bb) \n",
    "Htr_tw = []\n",
    "\n",
    "ptr_tw = []\n",
    "    \n",
    "for nn in bb: \n",
    "    mm = np.array(z1, copy=True)\n",
    "    mm[0, i-1, :] = mm[0, i-1, :] + nn\n",
    "    c1 = mm[0]\n",
    "    c2 = mm[1] \n",
    "    c3 = mm[2]\n",
    "    C = np.array([c1, c2, c3])\n",
    "    Htr_tw.append(H_trf(mm).sum()) \n",
    "    ptr_tw.append(p_irf(mm)[0].sum(axis=1)[-1]/p_irf(mm)[0].sum(axis=1).sum()) \n",
    "    \n",
    "\n",
    "    \n",
    "# increases in t^w\n",
    "\n",
    "bb = np.arange(0, 0.61, 0.05)\n",
    "n = len(bb) \n",
    "Htr_th = []\n",
    "\n",
    "ptr_th = []\n",
    "    \n",
    "for nn in bb: \n",
    "    mm = np.array(z1, copy=True)\n",
    "    mm[1, i-1, :] = mm[1, i-1, :] + nn\n",
    "    c1 = mm[0]\n",
    "    c2 = mm[1] \n",
    "    c3 = mm[2]\n",
    "    C = np.array([c1, c2, c3])\n",
    "    Htr_th.append(H_trf(mm).sum()) \n",
    "    ptr_th.append( p_irf(mm)[0].sum(axis=1)[-1]/p_irf(mm)[0].sum(axis=1).sum()) \n",
    "    "
   ]
  },
  {
   "cell_type": "code",
   "execution_count": 53,
   "metadata": {},
   "outputs": [],
   "source": [
    "    \n",
    "fig, ax = plt.subplots(1, 2, figsize=(14,8))  \n",
    "\n",
    "ax[0].plot(bb, pct(Htr_th), label=r'$H_{tr}$', color='blue', marker='o')\n",
    "ax[0].tick_params(axis='both', which='major', labelsize=20)\n",
    "ax[0].grid(True)\n",
    "ax[0].set_xlabel(r\"Increases in $\\tau^h_{tr}$ \", fontsize=20)\n",
    "ax[0].set_ylabel('Percentage change in $H_{tr}$', fontsize=20)\n",
    "ax[0].legend(loc=\"lower left\", prop={'size': 20})\n",
    "ax[0].set_title('(a)', fontsize=20)\n",
    "ax[0].set_xlim([0, 0.6])\n",
    "ax2 =ax[0].twinx()\n",
    "ax2.plot(bb, pct(ptr_th),  label=r'$p_{tr}$', color='red', marker='x')\n",
    "ax2.set_ylabel(r\"Percentage change in $p_{tr}$\", fontsize=18)\n",
    "plt.legend(loc=\"upper right\", prop={'size': 16})\n",
    "plt.yticks(fontsize=20)\n",
    "\n",
    "\n",
    "\n",
    "\n",
    "\n",
    "ax[1].plot(bb, pct(Htr_tw), label=r'$H_{tr}$', color='blue', marker='o')\n",
    "ax[1].tick_params(axis='both', which='major', labelsize=20)\n",
    "ax[1].set_xlabel(r\"Increases in $\\tau^w_{tr}$ \", fontsize=20)\n",
    "ax[1].set_ylabel('Percentage change in $H_{tr}$', fontsize=20)\n",
    "ax[1].grid(True)\n",
    "ax[1].legend(loc=\"lower left\", prop={'size': 20})\n",
    "ax[1].set_title('(b)', fontsize=20)\n",
    "ax[1].set_xlim([0, 0.6])\n",
    "ax3 =ax[1].twinx()\n",
    "ax3.plot(bb, pct(ptr_tw),  label=r'$p_{tr}$', color='red', marker='x')\n",
    "ax3.set_ylabel(r\"Percentage change in $p_{tr}$\", fontsize=18)\n",
    "plt.legend(loc=\"upper right\", prop={'size': 16})\n",
    "plt.yticks(fontsize=20)\n",
    "\n",
    "plt.tight_layout()    \n",
    "#plt.savefig(\"D:/DOUTORADO/Topics in macro/paper_tex/F2.eps\", format='eps', dpi=1200)"
   ]
  },
  {
   "cell_type": "code",
   "execution_count": 54,
   "metadata": {},
   "outputs": [],
   "source": [
    "def pct(a):\n",
    "   return ((a - a[0])/a[0] )*100"
   ]
  },
  {
   "cell_type": "code",
   "execution_count": 55,
   "metadata": {},
   "outputs": [],
   "source": [
    "    \n",
    "fig, ax = plt.subplots(1, 2, figsize=(14,8))  \n",
    "\n",
    "ax[0].plot(bb, pct(Htr_th), label=r'$H_{tr}$', color='blue', marker='o')\n",
    "ax[0].tick_params(axis='both', which='major', labelsize=20)\n",
    "ax[0].grid(True)\n",
    "ax[0].set_xlabel(r\"Increases in $\\tau^h_{tr}$ \", fontsize=20)\n",
    "ax[0].set_ylabel('Percentage change in $H_{tr}$', fontsize=20)\n",
    "ax[0].legend(loc=\"lower left\", prop={'size': 20})\n",
    "ax[0].set_title('(a)', fontsize=20)\n",
    "ax[0].set_xlim([0, 0.6])\n",
    "ax2 =ax[0].twinx()\n",
    "ax2.plot(bb, pct(ptr_th),  label=r'$p_{tr}$', color='red', marker='x')\n",
    "ax2.set_ylabel(r\"Percentage change in $p_{tr}$\", fontsize=18)\n",
    "plt.legend(loc=\"upper right\", prop={'size': 16})\n",
    "plt.yticks(fontsize=20)\n",
    "\n",
    "\n",
    "\n",
    "\n",
    "\n",
    "ax[1].plot(bb, pct(Htr_tw), label=r'$H_{tr}$', color='blue', marker='o')\n",
    "ax[1].tick_params(axis='both', which='major', labelsize=20)\n",
    "ax[1].set_xlabel(r\"Increases in $\\tau^w_{tr}$ \", fontsize=20)\n",
    "ax[1].set_ylabel('Percentage change in $H_{tr}$', fontsize=20)\n",
    "ax[1].grid(True)\n",
    "ax[1].legend(loc=\"lower left\", prop={'size': 20})\n",
    "ax[1].set_title('(b)', fontsize=20)\n",
    "ax[1].set_xlim([0, 0.6])\n",
    "ax3 =ax[1].twinx()\n",
    "ax3.plot(bb, pct(ptr_tw),  label=r'$p_{tr}$', color='red', marker='x')\n",
    "ax3.set_ylabel(r\"Percentage change in $p_{tr}$\", fontsize=18)\n",
    "plt.legend(loc=\"upper right\", prop={'size': 16})\n",
    "plt.yticks(fontsize=20)\n",
    "\n",
    "plt.tight_layout()    \n",
    "#plt.savefig(\"D:/DOUTORADO/Topics in macro/paper_tex/F2.eps\", format='eps', dpi=1200)"
   ]
  },
  {
   "cell_type": "code",
   "execution_count": 56,
   "metadata": {},
   "outputs": [],
   "source": [
    "    \n",
    "fig, ax = plt.subplots(1, 2, figsize=(14,8))  \n",
    "\n",
    "ax[0].plot(bb, pct(Htr_th), label=r'$H_{tr}$', color='blue', marker='o')\n",
    "ax[0].tick_params(axis='both', which='major', labelsize=20)\n",
    "ax[0].grid(True)\n",
    "ax[0].set_xlabel(r\"Increases in $\\tau^h_{tr}$ \", fontsize=20)\n",
    "ax[0].set_ylabel('Percentage change$', fontsize=20)\n",
    "ax[0].legend(loc=\"lower left\", prop={'size': 20})\n",
    "ax[0].set_title('(a)', fontsize=20)\n",
    "ax[0].set_xlim([0, 0.6])\n",
    "ax[0].plot(bb, pct(ptr_th),  label=r'$p_{tr}$', color='red', marker='x')\n",
    "plt.legend(loc=\"upper right\", prop={'size': 16})\n",
    "#plt.yticks(fontsize=20)\n",
    "\n",
    "\n",
    "\n",
    "\n",
    "\n",
    "ax[1].plot(bb, pct(Htr_tw), label=r'$H_{tr}$', color='blue', marker='o')\n",
    "ax[1].tick_params(axis='both', which='major', labelsize=20)\n",
    "ax[1].set_xlabel(r\"Increases in $\\tau^w_{tr}$ \", fontsize=20)\n",
    "ax[1].set_ylabel('Percentage change in $H_{tr}$', fontsize=20)\n",
    "ax[1].grid(True)\n",
    "ax[1].legend(loc=\"lower left\", prop={'size': 20})\n",
    "ax[1].set_title('(b)', fontsize=20)\n",
    "ax[1].set_xlim([0, 0.6])\n",
    "ax3 =ax[1].twinx()\n",
    "ax3.plot(bb, pct(ptr_tw),  label=r'$p_{tr}$', color='red', marker='x')\n",
    "ax3.set_ylabel(r\"Percentage change in $p_{tr}$\", fontsize=18)\n",
    "plt.legend(loc=\"upper right\", prop={'size': 16})\n",
    "plt.yticks(fontsize=20)\n",
    "\n",
    "plt.tight_layout()    \n",
    "#plt.savefig(\"D:/DOUTORADO/Topics in macro/paper_tex/F2.eps\", format='eps', dpi=1200)"
   ]
  },
  {
   "cell_type": "code",
   "execution_count": 57,
   "metadata": {},
   "outputs": [],
   "source": [
    "    \n",
    "fig, ax = plt.subplots(1, 2, figsize=(14,8))  \n",
    "\n",
    "ax[0].plot(bb, pct(Htr_th), label=r'$H_{tr}$', color='blue', marker='o')\n",
    "ax[0].plot(bb, pct(ptr_th),  label=r'$p_{tr}$', color='red', marker='X')\n",
    "ax[0].tick_params(axis='both', which='major', labelsize=20)\n",
    "ax[0].grid(True)\n",
    "ax[0].set_xlabel(r\"Increases in $\\tau^h_{tr}$ \", fontsize=20)\n",
    "ax[0].set_ylabel('Percentage change', fontsize=20)\n",
    "ax[0].legend(loc=\"lower left\", prop={'size': 20})\n",
    "ax[0].set_title('(a)', fontsize=20)\n",
    "ax[0].set_xlim([0, 0.6])\n",
    "plt.legend(loc=\"upper right\", prop={'size': 16})\n",
    "#plt.yticks(fontsize=20)\n",
    "\n",
    "\n",
    "\n",
    "\n",
    "\n",
    "ax[1].plot(bb, pct(Htr_tw), label=r'$H_{tr}$', color='blue', marker='o')\n",
    "ax[1].tick_params(axis='both', which='major', labelsize=20)\n",
    "ax[1].set_xlabel(r\"Increases in $\\tau^w_{tr}$ \", fontsize=20)\n",
    "ax[1].set_ylabel('Percentage change in $H_{tr}$', fontsize=20)\n",
    "ax[1].grid(True)\n",
    "ax[1].legend(loc=\"lower left\", prop={'size': 20})\n",
    "ax[1].set_title('(b)', fontsize=20)\n",
    "ax[1].set_xlim([0, 0.6])\n",
    "ax3 =ax[1].twinx()\n",
    "ax3.plot(bb, pct(ptr_tw),  label=r'$p_{tr}$', color='red', marker='x')\n",
    "ax3.set_ylabel(r\"Percentage change in $p_{tr}$\", fontsize=18)\n",
    "plt.legend(loc=\"upper right\", prop={'size': 16})\n",
    "plt.yticks(fontsize=20)\n",
    "\n",
    "plt.tight_layout()    \n",
    "#plt.savefig(\"D:/DOUTORADO/Topics in macro/paper_tex/F2.eps\", format='eps', dpi=1200)"
   ]
  },
  {
   "cell_type": "code",
   "execution_count": 58,
   "metadata": {},
   "outputs": [],
   "source": [
    "    \n",
    "fig, ax = plt.subplots(1, 2, figsize=(14,8))  \n",
    "\n",
    "ax[0].plot(bb, pct(Htr_th), label=r'$H_{tr}$', color='blue', marker='o')\n",
    "ax[0].plot(bb, pct(ptr_th),  label=r'$p_{tr}$', color='red', marker='s')\n",
    "ax[0].tick_params(axis='both', which='major', labelsize=20)\n",
    "ax[0].grid(True)\n",
    "ax[0].set_xlabel(r\"Increases in $\\tau^h_{tr}$ \", fontsize=20)\n",
    "ax[0].set_ylabel('Percentage change', fontsize=20)\n",
    "ax[0].legend(loc=\"lower left\", prop={'size': 20})\n",
    "ax[0].set_title('(a)', fontsize=20)\n",
    "ax[0].set_xlim([0, 0.6])\n",
    "plt.legend(loc=\"upper right\", prop={'size': 16})\n",
    "#plt.yticks(fontsize=20)\n",
    "\n",
    "\n",
    "\n",
    "\n",
    "\n",
    "ax[1].plot(bb, pct(Htr_tw), label=r'$H_{tr}$', color='blue', marker='o')\n",
    "ax[1].plot(bb, pct(ptr_tw),  label=r'$p_{tr}$', color='red', marker='s')\n",
    "ax[1].tick_params(axis='both', which='major', labelsize=20)\n",
    "ax[1].set_xlabel(r\"Increases in $\\tau^w_{tr}$ \", fontsize=20)\n",
    "ax[1].set_ylabel('Percentage change', fontsize=20)\n",
    "ax[1].grid(True)\n",
    "ax[1].legend(loc=\"lower left\", prop={'size': 20})\n",
    "ax[1].set_title('(b)', fontsize=20)\n",
    "ax[1].set_xlim([0, 0.6])\n",
    "plt.legend(loc=\"upper right\", prop={'size': 16})\n",
    "\n",
    "plt.tight_layout()    \n",
    "#plt.savefig(\"D:/DOUTORADO/Topics in macro/paper_tex/F2.eps\", format='eps', dpi=1200)"
   ]
  },
  {
   "cell_type": "code",
   "execution_count": 59,
   "metadata": {},
   "outputs": [],
   "source": [
    "    \n",
    "fig, ax = plt.subplots(1, 2, figsize=(14,8))  \n",
    "\n",
    "ax[0].plot(bb, pct(Htr_th), label=r'$H_{tr}$', color='blue', marker='o')\n",
    "ax[0].plot(bb, pct(ptr_th),  label=r'$p_{tr}$', color='red', marker='s')\n",
    "ax[0].tick_params(axis='both', which='major', labelsize=20)\n",
    "ax[0].grid(True)\n",
    "ax[0].set_xlabel(r\"Increases in $\\tau^h_{tr}$ \", fontsize=20)\n",
    "ax[0].set_ylabel('Percentage change', fontsize=20)\n",
    "ax[0].legend(loc=\"lower left\", prop={'size': 20})\n",
    "ax[0].set_title('(a)', fontsize=20)\n",
    "ax[0].set_xlim([0, 0.6])\n",
    "#plt.yticks(fontsize=20)\n",
    "\n",
    "\n",
    "\n",
    "\n",
    "\n",
    "ax[1].plot(bb, pct(Htr_tw), label=r'$H_{tr}$', color='blue', marker='o')\n",
    "ax[1].plot(bb, pct(ptr_tw),  label=r'$p_{tr}$', color='red', marker='s')\n",
    "ax[1].tick_params(axis='both', which='major', labelsize=20)\n",
    "ax[1].set_xlabel(r\"Increases in $\\tau^w_{tr}$ \", fontsize=20)\n",
    "ax[1].set_ylabel('Percentage change', fontsize=20)\n",
    "ax[1].grid(True)\n",
    "ax[1].legend(loc=\"lower left\", prop={'size': 20})\n",
    "ax[1].set_title('(b)', fontsize=20)\n",
    "ax[1].set_xlim([0, 0.6])\n",
    "\n",
    "plt.tight_layout()    \n",
    "#plt.savefig(\"D:/DOUTORADO/Topics in macro/paper_tex/F2.eps\", format='eps', dpi=1200)"
   ]
  },
  {
   "cell_type": "code",
   "execution_count": 60,
   "metadata": {},
   "outputs": [],
   "source": [
    "    \n",
    "fig, ax = plt.subplots(1, 2, figsize=(14,8))  \n",
    "\n",
    "ax[0].plot(bb, pct(Htr_th), label=r'$H_{tr}$', color='blue', marker='o')\n",
    "ax[0].plot(bb, pct(ptr_th),  label=r'$p_{tr}$', color='red', marker='s')\n",
    "ax[0].tick_params(axis='both', which='major', labelsize=20)\n",
    "ax[0].grid(True)\n",
    "ax[0].set_xlabel(r\"Increases in $\\tau^h_{tr}$ \", fontsize=20)\n",
    "ax[0].set_ylabel('Percentage change', fontsize=20)\n",
    "ax[0].legend(loc=\"upper right\", prop={'size': 20})\n",
    "ax[0].set_title('(a)', fontsize=20)\n",
    "ax[0].set_xlim([0, 0.6])\n",
    "#plt.yticks(fontsize=20)\n",
    "\n",
    "\n",
    "\n",
    "\n",
    "\n",
    "ax[1].plot(bb, pct(Htr_tw), label=r'$H_{tr}$', color='blue', marker='o')\n",
    "ax[1].plot(bb, pct(ptr_tw),  label=r'$p_{tr}$', color='red', marker='s')\n",
    "ax[1].tick_params(axis='both', which='major', labelsize=20)\n",
    "ax[1].set_xlabel(r\"Increases in $\\tau^w_{tr}$ \", fontsize=20)\n",
    "ax[1].set_ylabel('Percentage change', fontsize=20)\n",
    "ax[1].grid(True)\n",
    "ax[1].legend(loc=\"upper right\", prop={'size': 20})\n",
    "ax[1].set_title('(b)', fontsize=20)\n",
    "ax[1].set_xlim([0, 0.6])\n",
    "\n",
    "plt.tight_layout()    \n",
    "#plt.savefig(\"D:/DOUTORADO/Topics in macro/paper_tex/F2.eps\", format='eps', dpi=1200)"
   ]
  },
  {
   "cell_type": "code",
   "execution_count": 61,
   "metadata": {},
   "outputs": [],
   "source": [
    "    \n",
    "fig, ax = plt.subplots(1, 2, figsize=(14,8))  \n",
    "\n",
    "ax[0].plot(bb, pct(Htr_th), label=r'$H_{tr}$', color='blue', marker='o')\n",
    "ax[0].plot(bb, pct(ptr_th),  label=r'$p_{tr}$', color='red', marker='s')\n",
    "ax[0].tick_params(axis='both', which='major', labelsize=20)\n",
    "ax[0].grid(True)\n",
    "ax[0].set_xlabel(r\"Increases in $\\tau^h_{tr}$ \", fontsize=20)\n",
    "ax[0].set_ylabel('Percentage change', fontsize=20)\n",
    "ax[0].legend(loc=\"upper right\", prop={'size': 20})\n",
    "ax[0].set_title('(a)', fontsize=20)\n",
    "ax[0].set_xlim([0, 0.6])\n",
    "#plt.yticks(fontsize=20)\n",
    "\n",
    "\n",
    "\n",
    "\n",
    "\n",
    "ax[1].plot(bb, pct(Htr_tw), label=r'$H_{tr}$', color='blue', marker='o')\n",
    "ax[1].plot(bb, pct(ptr_tw),  label=r'$p_{tr}$', color='red', marker='s')\n",
    "ax[1].tick_params(axis='both', which='major', labelsize=20)\n",
    "ax[1].set_xlabel(r\"Increases in $\\tau^w_{tr}$ \", fontsize=20)\n",
    "ax[1].set_ylabel('Percentage change', fontsize=20)\n",
    "ax[1].grid(True)\n",
    "ax[1].legend(loc=\"upper right\", prop={'size': 20})\n",
    "ax[1].set_title('(b)', fontsize=20)\n",
    "ax[1].set_xlim([0, 0.6])\n",
    "\n",
    "plt.tight_layout()    \n",
    "plt.savefig(\"D:/DOUTORADO/Topics in macro/paper_tex/F2.eps\", format='eps', dpi=1200)"
   ]
  }
 ],
 "metadata": {},
 "nbformat": 4,
 "nbformat_minor": 4
}
