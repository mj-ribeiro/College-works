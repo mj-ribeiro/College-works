{
 "cells": [
  {
   "cell_type": "code",
   "execution_count": 1,
   "metadata": {},
   "outputs": [],
   "source": [
    "import os\n",
    "os.getcwd()\n",
    "os.chdir('D:\\\\Git projects\\\\college_works\\\\Thesis')\n",
    "\n",
    "import numpy as np\n",
    "import matplotlib.pyplot as plt\n",
    "from scipy.optimize import minimize\n",
    "from math import gamma\n",
    "import time\n",
    "import pandas as pd"
   ]
  },
  {
   "cell_type": "code",
   "execution_count": 2,
   "metadata": {},
   "outputs": [],
   "source": [
    "def par():\n",
    "    global beta, eta, varphi, theta, rho, i, r, gamma1, phi, kappa, alfa, psi, sig, pi, nu\n",
    "    beta = 0.69\n",
    "    eta = 0.25\n",
    "    varphi = 0.25\n",
    "    theta = 3.44\n",
    "    rho = 0.19\n",
    "    alfa = 0.6\n",
    "    kappa = np.divide(1, (1- eta) )\n",
    "    nu = 1 + np.multiply(alfa, np.multiply(varphi, kappa)) - np.divide(kappa, theta)\n",
    "    pi = 1 - np.multiply(np.multiply( (1 - alfa), varphi), kappa )    \n",
    "    sig = np.divide(np.multiply(eta, kappa), pi )\n",
    "    psi = np.multiply(np.power(eta, eta), np.power( (1-eta), (1-eta) ) )\n",
    "    i = 7\n",
    "    r = 27\n",
    "    gamma1 = gamma(   1 - np.multiply( np.divide(1, np.multiply(theta, (1-rho)) ), np.divide(1, (1 - eta) ) ) )   \n",
    "    phi = np.array([0.138, 0.174, 0.136, 0.1, 0.051, 0.084, 0.168]).reshape(i, 1)"
   ]
  },
  {
   "cell_type": "code",
   "execution_count": 3,
   "metadata": {},
   "outputs": [],
   "source": [
    "\n",
    "def taus2():\n",
    "    par()\n",
    "        \n",
    "    tau_h = np.random.uniform(low=-0.99, high=40, size=(i,r))\n",
    "    tau_h[0, :] = 0\n",
    "\n",
    "    tau_w = np.random.uniform(low=-0.99, high=0.999, size=(i,r))\n",
    "    tau_w[0, : ] = tau_w[0, 0]\n",
    "    \n",
    "    w =np.random.uniform(low=0.001, high=30, size=(i,r))\n",
    "    w[0, r-1] = 1\n",
    "    #w[1:6, :] = w[0, :] \n",
    "    \n",
    "    x1 = np.array([tau_w, tau_h, w])\n",
    "    \n",
    "    return x1\n",
    "\n",
    "x1 = taus2()"
   ]
  },
  {
   "cell_type": "code",
   "execution_count": 4,
   "metadata": {},
   "outputs": [],
   "source": [
    "def sf( ):\n",
    "    global s\n",
    "    s = np.power( (1+ np.divide( (1-eta), ( np.multiply(beta, phi) ) ) ), -1 )\n",
    "    s = s.reshape(i, 1)\n",
    "    return s"
   ]
  },
  {
   "cell_type": "code",
   "execution_count": 5,
   "metadata": {},
   "outputs": [],
   "source": [
    "def p_trf(x1):    \n",
    "    s = sf( )    \n",
    "    A = np.divide( (1 - x1[0]) , np.power( ( 1 + x1[1] ), eta) )     \n",
    "    b = np.power(s, phi ) \n",
    "    B = np.multiply(b.reshape(i,1), x1[2] )     \n",
    "    C = np.power( (1 - s), np.divide((1-eta), beta) )\n",
    "    d = np.multiply(np.multiply(A, B), C )\n",
    "    k = np.power(d, theta)\n",
    "    p_tr = np.divide( k[i-1], np.sum(k, axis=0) )\n",
    "    return p_tr\n",
    " "
   ]
  },
  {
   "cell_type": "code",
   "execution_count": 6,
   "metadata": {},
   "outputs": [],
   "source": [
    "  \n",
    "def H_trf(x1):    \n",
    "    p_tr = p_trf(x1)  \n",
    "    A = np.power(np.multiply( np.divide( (1 - x1[0]), (1 + x1[1]) ), x1[2] ), sig )    \n",
    "    A = A[i-1]     \n",
    "    P = np.multiply(np.power(p_tr, ( np.divide(nu, pi) )), np.power(eta, sig ) )\n",
    "    g = np.divide(np.multiply(phi[i-1], kappa ), pi )\n",
    "    C = np.multiply( np.power(s[i-1], g ), np.power(gamma1, np.divide(1, pi) ) )\n",
    "    H_tr = np.multiply(np.multiply(P, A), C )       \n",
    "    return H_tr"
   ]
  },
  {
   "cell_type": "code",
   "execution_count": 7,
   "metadata": {},
   "outputs": [],
   "source": [
    "def w_tilf(x1):\n",
    "    H_tr = H_trf(x1) \n",
    "    p_tr = p_trf(x1)                 \n",
    "    C = np.power((1 - s), np.divide( (1-eta), beta )).reshape(7, 1)\n",
    "    pp = np.power(s, phi)        \n",
    "    A = np.multiply(psi, np.multiply( np.divide( (1 - x1[0]), np.power( (1 + x1[1]), eta ) ), x1[2] ) )    \n",
    "    b = np.power(np.multiply(np.power(p_tr, alfa), np.power(H_tr, (1-alfa) ) ), varphi )    \n",
    "    B = np.multiply(b, pp.reshape(7,1))\n",
    "    w_til =  np.multiply(np.multiply(A, B), C )\n",
    "    return w_til "
   ]
  },
  {
   "cell_type": "code",
   "execution_count": 8,
   "metadata": {},
   "outputs": [],
   "source": [
    "\n",
    "def p_irf(x1):    \n",
    "    w_til = w_tilf(x1)\n",
    "    w_til2 = np.power(w_til, theta) \n",
    "    w_r = w_til2.sum(axis = 0)    \n",
    "    p_ir = np.divide(w_til2 , w_r ) \n",
    "    return np.array(p_ir), np.array(w_r)"
   ]
  },
  {
   "cell_type": "code",
   "execution_count": 9,
   "metadata": {},
   "outputs": [],
   "source": [
    "def Wf(x1):\n",
    "    p_ir, w_r = p_irf(x1)         \n",
    "    z = np.multiply(np.multiply(gamma1, eta), np.power(w_r, np.divide(1, np.multiply(theta, (1 - eta)) ) ) )\n",
    "    A = np.divide( np.power( (1 - s), (-1/beta) ), ( 1 - x1[0] )  )                \n",
    "    W = np.multiply(A, z)\n",
    "    return W, p_ir"
   ]
  },
  {
   "cell_type": "code",
   "execution_count": 10,
   "metadata": {},
   "outputs": [],
   "source": [
    "\n",
    "def simul():\n",
    "    global p_t, W_t\n",
    "    p_t = pd.read_csv('pt.csv', sep=';')\n",
    "    p_t = p_t.iloc[0:7]\n",
    "    p_t.set_index('ocup', inplace=True)\n",
    "    p_t = np.array(p_t)\n",
    "    W_t = pd.read_csv('wt.csv', sep=';')\n",
    "    W_t.set_index('ocup', inplace=True)\n",
    "    W_t = np.array(W_t)\n",
    "    \n",
    "    return p_t, W_t\n",
    "\n",
    "simul();"
   ]
  },
  {
   "cell_type": "code",
   "execution_count": 11,
   "metadata": {},
   "outputs": [],
   "source": [
    "\n",
    "\n",
    "p_t2 = np.array(p_t[0:6])\n",
    "    \n",
    "def obj2(x1):       \n",
    "    x1 = x1.reshape((3, i, r)) \n",
    "    x1[0, 0, : ] = x1[0, 0, 0]    \n",
    "    x1[1, 0, :] = 0\n",
    "    x1[2, :, 16] = 8\n",
    "    x1[2, 0:7, :] = x1[2, 0, :]\n",
    "    W, p_ir = Wf(x1)    \n",
    "    p_ir = p_ir[0:6]\n",
    "    D =   (np.power(np.divide( (W-W_t), W_t ), 2)).sum() + (np.power(np.divide( (p_ir-p_t2), p_t2 ), 2)).sum() \n",
    "    D = np.log(D)    \n",
    "    return D"
   ]
  },
  {
   "cell_type": "code",
   "execution_count": 12,
   "metadata": {},
   "outputs": [],
   "source": [
    "#%time obj2(np.vstack(taus2()).flatten())\n",
    "%time obj2(taus2())"
   ]
  },
  {
   "cell_type": "code",
   "execution_count": 13,
   "metadata": {},
   "outputs": [],
   "source": [
    "\n",
    "\n",
    "# optimization\n",
    "\n",
    "Bd = ((-0.99, 0.999), )*189 + ((-0.99, 40), )*189 + ((0.001, 12), )*27\n",
    "Bd = np.array(Bd, dtype=object)\n",
    "\n",
    "def hessp(x, l):\n",
    "    return np.zeros((3, i, r))"
   ]
  },
  {
   "cell_type": "code",
   "execution_count": 14,
   "metadata": {},
   "outputs": [],
   "source": [
    "# optimization give me z1 array\n",
    "\n",
    "z1 = pd.read_excel('MG_8.xlsx')\n",
    "z1 = np.array(z1).reshape(3, i, r)\n",
    "\n",
    "\n",
    "obj2(z1)"
   ]
  },
  {
   "cell_type": "code",
   "execution_count": 15,
   "metadata": {},
   "outputs": [],
   "source": [
    "def h_tilf(x1):\n",
    "    H_tr = H_trf(x1) \n",
    "    p_tr = p_trf(x1) \n",
    "    A = np.power(np.multiply(np.power(p_tr, alfa), np.power(H_tr, (1-alfa) ) ), varphi )    \n",
    "    B = np.multiply(np.power(s, phi), np.power(eta, eta) )\n",
    "    h_til = np.power(np.multiply(A, B), kappa )\n",
    "    return h_til"
   ]
  },
  {
   "cell_type": "code",
   "execution_count": 16,
   "metadata": {},
   "outputs": [],
   "source": [
    "def H_irf(x1):\n",
    "    p_ir = p_irf(x1)[0]\n",
    "    h_til = h_tilf(x1)\n",
    "    A = np.multiply(h_til, np.power(p_ir, (1-kappa/theta) ) )\n",
    "    B = np.power(np.multiply( np.divide( (1 - x1[0]), (1 + x1[1]) ), x1[2] ), np.multiply(eta, kappa ) )       \n",
    "    H_ir = np.multiply(np.multiply(A, B), gamma1 )\n",
    "    return H_ir\n",
    "    \n",
    "    "
   ]
  },
  {
   "cell_type": "code",
   "execution_count": 17,
   "metadata": {},
   "outputs": [],
   "source": [
    "\n",
    "\n",
    "def Y_f(x1):\n",
    "    H_ir = H_irf(x1) \n",
    "    Y = np.multiply(x1[2, 0, :], H_ir)\n",
    "    return Y\n",
    "\n",
    "\n",
    "    "
   ]
  },
  {
   "cell_type": "code",
   "execution_count": 18,
   "metadata": {},
   "outputs": [],
   "source": [
    "\n",
    "# Model\n",
    "\n",
    "W, p_ir = Wf(z1.reshape(3, i, r))\n",
    "W = pd.DataFrame(W)\n",
    "p_ir = pd.DataFrame(p_ir)\n",
    "\n",
    " \n",
    "# PNAD data\n",
    "\n",
    "p_t, W_t = simul()   \n",
    "W_t =  pd.DataFrame(W_t)\n",
    "p_t =  pd.DataFrame(p_t)\n",
    "\n",
    "\n",
    "# get colnames\n",
    "\n",
    "n = pd.read_csv('pt.csv', sep=';')\n",
    "n = n.iloc[0:7]\n",
    "n.set_index('ocup', inplace=True)\n",
    "names = n.columns.str.strip(\"'\")\n",
    "names  = np.array(names).repeat(7) \n",
    "\n",
    "\n",
    "\n",
    "p_t = p_t.values.flatten() \n",
    "p_ir = p_ir.values.flatten()\n",
    "\n",
    "W = W.values.flatten()\n",
    "W_t = W_t.values.flatten()"
   ]
  },
  {
   "cell_type": "code",
   "execution_count": 19,
   "metadata": {},
   "outputs": [],
   "source": [
    "# plots\n",
    "\n",
    "### W and W_ir\n",
    "\n",
    "W_t =  pd.DataFrame(W_t)\n",
    "W = pd.DataFrame(W)\n",
    "\n",
    "\n",
    "W = W.values.flatten()\n",
    "W_t = W_t.values.flatten()\n",
    "\n",
    "\n",
    "ocn1 = ['Managers','Sciences and arts','Middle-level technicians','Service-sector','Agriculture',\n",
    "       'Industrial production and services','Teachers']\n",
    "ocn1 = np.array(ocn1, dtype=object).repeat(27)\n",
    "\n",
    "dd = pd.DataFrame(dict(x=W, y=W_t, label=ocn1))\n",
    "groups = dd.groupby('label')\n",
    "\n",
    "\n",
    "## p_ir and p_t\n",
    "\n",
    "p_t =  pd.DataFrame(p_t)\n",
    "p_ir = pd.DataFrame(p_ir)\n",
    "\n",
    "\n",
    "p_t = p_t.values.flatten() \n",
    "p_ir = p_ir.values.flatten()\n",
    "\n",
    "ocn = ['Managers','Sciences and arts','Middle-level technicians','Service-sector','Agriculture',\n",
    "       'Industrial production and services','Teachers']\n",
    "\n",
    "\n",
    "ocn = np.array(ocn, dtype=object).repeat(27)\n",
    "\n",
    "\n",
    "ff = pd.DataFrame(dict(x=p_ir, y=p_t, label=ocn))\n",
    "groups2 = ff.groupby('label')"
   ]
  },
  {
   "cell_type": "code",
   "execution_count": 20,
   "metadata": {},
   "outputs": [],
   "source": [
    "\n",
    "# gdp model\n",
    "\n",
    "gdp_1 = Y_f(z1).sum(axis=0) \n",
    "names2 = np.array(names2)\n",
    "data1 = {'state': names2.flatten(), 'GDP_model': gdp_1.flatten()}\n",
    "\n",
    "gdp_model = pd.DataFrame(data1)\n",
    "\n",
    "# gdp data\n",
    "\n",
    "gdp_data = pd.read_excel('gdp_data.xlsx')\n",
    "\n",
    "gdp_data['GDP_data'] = np.log(gdp_data['GDP_data'])\n",
    "\n",
    "\n",
    "### merge data frames\n",
    "\n",
    "GDP = pd.merge(gdp_model, gdp_data, on='state')\n",
    "GDP.head()\n",
    "\n",
    "GDP_model = GDP['GDP_model']\n",
    "GDP_data = GDP['GDP_data']\n",
    "GDP_names = GDP['state']"
   ]
  },
  {
   "cell_type": "code",
   "execution_count": 21,
   "metadata": {},
   "outputs": [],
   "source": [
    "# plots\n",
    "\n",
    "### W and W_ir\n",
    "\n",
    "W_t =  pd.DataFrame(W_t)\n",
    "W = pd.DataFrame(W)\n",
    "\n",
    "\n",
    "W = W.values.flatten()\n",
    "W_t = W_t.values.flatten()\n",
    "\n",
    "\n",
    "ocn1 = ['Managers','Sciences and arts','Middle-level technicians','Service-sector','Agriculture',\n",
    "       'Industrial production and services','Teachers']\n",
    "ocn1 = np.array(ocn1, dtype=object).repeat(27)\n",
    "\n",
    "dd = pd.DataFrame(dict(x=W, y=W_t, label=ocn1))\n",
    "groups = dd.groupby('label')\n",
    "\n",
    "\n",
    "## p_ir and p_t\n",
    "\n",
    "p_t =  pd.DataFrame(p_t)\n",
    "p_ir = pd.DataFrame(p_ir)\n",
    "\n",
    "\n",
    "p_t = p_t.values.flatten() \n",
    "p_ir = p_ir.values.flatten()\n",
    "\n",
    "ocn = ['Managers','Sciences and arts','Middle-level technicians','Service-sector','Agriculture',\n",
    "       'Industrial production and services','Teachers']\n",
    "\n",
    "\n",
    "ocn = np.array(ocn, dtype=object).repeat(27)\n",
    "\n",
    "\n",
    "ff = pd.DataFrame(dict(x=p_ir, y=p_t, label=ocn))\n",
    "groups2 = ff.groupby('label')"
   ]
  },
  {
   "cell_type": "code",
   "execution_count": 22,
   "metadata": {},
   "outputs": [],
   "source": [
    "\n",
    "# Model\n",
    "\n",
    "W, p_ir = Wf(z1.reshape(3, i, r))\n",
    "W = pd.DataFrame(W)\n",
    "p_ir = pd.DataFrame(p_ir)\n",
    "\n",
    " \n",
    "# PNAD data\n",
    "\n",
    "p_t, W_t = simul()   \n",
    "W_t =  pd.DataFrame(W_t)\n",
    "p_t =  pd.DataFrame(p_t)\n",
    "\n",
    "\n",
    "# get colnames\n",
    "\n",
    "n = pd.read_csv('pt.csv', sep=';')\n",
    "n = n.iloc[0:7]\n",
    "n.set_index('ocup', inplace=True)\n",
    "names = n.columns.str.strip(\"'\")\n",
    "names  = np.array(names).repeat(7) \n",
    "\n",
    "\n",
    "\n",
    "p_t = p_t.values.flatten() \n",
    "p_ir = p_ir.values.flatten()\n",
    "\n",
    "W = W.values.flatten()\n",
    "W_t = W_t.values.flatten()"
   ]
  },
  {
   "cell_type": "code",
   "execution_count": 23,
   "metadata": {},
   "outputs": [],
   "source": [
    "\n",
    "# gdp model\n",
    "\n",
    "gdp_1 = Y_f(z1).sum(axis=0) \n",
    "names2 = np.array(names2)\n",
    "data1 = {'state': names2.flatten(), 'GDP_model': gdp_1.flatten()}\n",
    "\n",
    "gdp_model = pd.DataFrame(data1)\n",
    "\n",
    "# gdp data\n",
    "\n",
    "gdp_data = pd.read_excel('gdp_data.xlsx')\n",
    "\n",
    "gdp_data['GDP_data'] = np.log(gdp_data['GDP_data'])\n",
    "\n",
    "\n",
    "### merge data frames\n",
    "\n",
    "GDP = pd.merge(gdp_model, gdp_data, on='state')\n",
    "GDP.head()\n",
    "\n",
    "GDP_model = GDP['GDP_model']\n",
    "GDP_data = GDP['GDP_data']\n",
    "GDP_names = GDP['state']"
   ]
  },
  {
   "cell_type": "code",
   "execution_count": 24,
   "metadata": {},
   "outputs": [],
   "source": [
    "\n",
    "# gdp model\n",
    "\n",
    "gdp_1 = Y_f(z1).sum(axis=0) \n",
    "names2 = np.array(names)\n",
    "data1 = {'state': names2.flatten(), 'GDP_model': gdp_1.flatten()}\n",
    "\n",
    "gdp_model = pd.DataFrame(data1)\n",
    "\n",
    "# gdp data\n",
    "\n",
    "gdp_data = pd.read_excel('gdp_data.xlsx')\n",
    "\n",
    "gdp_data['GDP_data'] = np.log(gdp_data['GDP_data'])\n",
    "\n",
    "\n",
    "### merge data frames\n",
    "\n",
    "GDP = pd.merge(gdp_model, gdp_data, on='state')\n",
    "GDP.head()\n",
    "\n",
    "GDP_model = GDP['GDP_model']\n",
    "GDP_data = GDP['GDP_data']\n",
    "GDP_names = GDP['state']"
   ]
  },
  {
   "cell_type": "code",
   "execution_count": 25,
   "metadata": {},
   "outputs": [],
   "source": [
    "names"
   ]
  },
  {
   "cell_type": "code",
   "execution_count": 26,
   "metadata": {},
   "outputs": [],
   "source": [
    "names[0]"
   ]
  },
  {
   "cell_type": "code",
   "execution_count": 27,
   "metadata": {},
   "outputs": [],
   "source": [
    "names[0:27]"
   ]
  },
  {
   "cell_type": "code",
   "execution_count": 28,
   "metadata": {},
   "outputs": [],
   "source": [
    "names[1,:]"
   ]
  },
  {
   "cell_type": "code",
   "execution_count": 29,
   "metadata": {},
   "outputs": [],
   "source": [
    "names[1:]"
   ]
  },
  {
   "cell_type": "code",
   "execution_count": 30,
   "metadata": {},
   "outputs": [],
   "source": [
    "n = pd.read_csv('pt.csv', sep=';')\n",
    "n = n.iloc[0:7]\n",
    "n.set_index('ocup', inplace=True)\n",
    "names2 = n.columns.str.strip(\"'\")\n",
    "#names  = np.array(names).repeat(7) "
   ]
  },
  {
   "cell_type": "code",
   "execution_count": 31,
   "metadata": {},
   "outputs": [],
   "source": [
    "n = pd.read_csv('pt.csv', sep=';')\n",
    "n = n.iloc[0:7]\n",
    "n.set_index('ocup', inplace=True)\n",
    "names2 = n.columns.str.strip(\"'\")\n",
    "#names  = np.array(names).repeat(7) \n",
    "\n",
    "names2"
   ]
  },
  {
   "cell_type": "code",
   "execution_count": 32,
   "metadata": {},
   "outputs": [],
   "source": [
    "\n",
    "# gdp model\n",
    "\n",
    "gdp_1 = Y_f(z1).sum(axis=0) \n",
    "names2 = np.array(names2)\n",
    "data1 = {'state': names2.flatten(), 'GDP_model': gdp_1.flatten()}\n",
    "\n",
    "gdp_model = pd.DataFrame(data1)\n",
    "\n",
    "# gdp data\n",
    "\n",
    "gdp_data = pd.read_excel('gdp_data.xlsx')\n",
    "\n",
    "gdp_data['GDP_data'] = np.log(gdp_data['GDP_data'])\n",
    "\n",
    "\n",
    "### merge data frames\n",
    "\n",
    "GDP = pd.merge(gdp_model, gdp_data, on='state')\n",
    "GDP.head()\n",
    "\n",
    "GDP_model = GDP['GDP_model']\n",
    "GDP_data = GDP['GDP_data']\n",
    "GDP_names = GDP['state']"
   ]
  },
  {
   "cell_type": "code",
   "execution_count": 33,
   "metadata": {},
   "outputs": [],
   "source": [
    "GDP.head()"
   ]
  },
  {
   "cell_type": "code",
   "execution_count": 34,
   "metadata": {},
   "outputs": [],
   "source": [
    "GDP.head(10)"
   ]
  },
  {
   "cell_type": "code",
   "execution_count": 35,
   "metadata": {},
   "outputs": [],
   "source": [
    "GDP.head(10).sort()"
   ]
  },
  {
   "cell_type": "code",
   "execution_count": 36,
   "metadata": {},
   "outputs": [],
   "source": [
    "GDP.head(10)"
   ]
  },
  {
   "cell_type": "code",
   "execution_count": 37,
   "metadata": {},
   "outputs": [],
   "source": [
    "\n",
    "# gpd per worker and hc - fig5\n",
    "\n",
    "H_tr = H_trf(z1)\n",
    "Y = Y_f(z1).sum(axis=0)\n",
    "names2 = n.columns.str.strip(\"'\")\n",
    "\n",
    "plt.subplots(figsize=(10,8))\n",
    "plt.scatter(H_tr, Y, s=10)\n",
    "plt.xticks(fontsize=20)\n",
    "plt.yticks(fontsize=20)\n",
    "(m, b) = np.polyfit(H_tr, Y, 1)\n",
    "yp = np.polyval([m, b], H_tr)\n",
    "plt.plot(H_tr, yp, label='Regression Line')\n",
    "for tt, txt in enumerate(names2):\n",
    "    plt.annotate(txt, (H_tr[tt], Y[tt]), size=20) \n",
    "plt.grid(True)\n",
    "plt.legend(loc=\"upper right\", prop={'size': 20})\n",
    "plt.xlabel(\" Human capital of teachers - Model\", fontsize=20)\n",
    "plt.ylabel(\"GDP per worker - Model\", fontsize=20)\n",
    "plt.tight_layout()    \n",
    "plt.savefig(\"D:/DOUTORADO/Topics in macro/paper_tex/fig4.eps\", format='eps', dpi=1200)"
   ]
  },
  {
   "cell_type": "code",
   "execution_count": 38,
   "metadata": {},
   "outputs": [],
   "source": [
    "GDP.head(10)\n",
    "\n",
    "GDP2 = GDP.copy"
   ]
  },
  {
   "cell_type": "code",
   "execution_count": 39,
   "metadata": {},
   "outputs": [],
   "source": [
    "GDP2.head(10)"
   ]
  },
  {
   "cell_type": "code",
   "execution_count": 40,
   "metadata": {},
   "outputs": [],
   "source": [
    "GDP2.head(10)"
   ]
  },
  {
   "cell_type": "code",
   "execution_count": 41,
   "metadata": {},
   "outputs": [],
   "source": [
    "GDP2"
   ]
  },
  {
   "cell_type": "code",
   "execution_count": 42,
   "metadata": {},
   "outputs": [],
   "source": [
    "GDP2\n",
    "\n",
    "GDP2 = GDP.copy()"
   ]
  },
  {
   "cell_type": "code",
   "execution_count": 43,
   "metadata": {},
   "outputs": [],
   "source": [
    "GDP2\n",
    "\n",
    "#GDP2 = GDP.copy()"
   ]
  },
  {
   "cell_type": "code",
   "execution_count": 44,
   "metadata": {},
   "outputs": [],
   "source": [
    "\n",
    "#ff = pd.DataFrame(dict(x=p_ir, y=p_t, label=ocn))\n",
    "#groups2 = ff.groupby('label')\n",
    "\n",
    "GDP2['code']"
   ]
  },
  {
   "cell_type": "code",
   "execution_count": 45,
   "metadata": {},
   "outputs": [],
   "source": [
    "\n",
    "#ff = pd.DataFrame(dict(x=p_ir, y=p_t, label=ocn))\n",
    "#groups2 = ff.groupby('label')\n",
    "\n",
    "GDP2['code']==1"
   ]
  },
  {
   "cell_type": "code",
   "execution_count": 46,
   "metadata": {},
   "outputs": [],
   "source": [
    "\n",
    "#ff = pd.DataFrame(dict(x=p_ir, y=p_t, label=ocn))\n",
    "#groups2 = ff.groupby('label')\n",
    "\n",
    "GDP2.loc[[GDP2['code']==1], ['code'] ]"
   ]
  },
  {
   "cell_type": "code",
   "execution_count": 47,
   "metadata": {},
   "outputs": [],
   "source": [
    "\n",
    "#ff = pd.DataFrame(dict(x=p_ir, y=p_t, label=ocn))\n",
    "#groups2 = ff.groupby('label')\n",
    "\n",
    "GDP2.loc[ [GDP2['code']==1], : ]"
   ]
  },
  {
   "cell_type": "code",
   "execution_count": 48,
   "metadata": {},
   "outputs": [],
   "source": [
    "\n",
    "#ff = pd.DataFrame(dict(x=p_ir, y=p_t, label=ocn))\n",
    "#groups2 = ff.groupby('label')\n",
    "\n",
    "GDP2.iloc[ [GDP2['code']==1], ['code'] ]"
   ]
  },
  {
   "cell_type": "code",
   "execution_count": 49,
   "metadata": {},
   "outputs": [],
   "source": [
    "\n",
    "#ff = pd.DataFrame(dict(x=p_ir, y=p_t, label=ocn))\n",
    "#groups2 = ff.groupby('label')\n",
    "\n",
    "GDP2.loc[ GDP2['code']==1, ['code'] ]"
   ]
  },
  {
   "cell_type": "code",
   "execution_count": 50,
   "metadata": {},
   "outputs": [],
   "source": [
    "\n",
    "#ff = pd.DataFrame(dict(x=p_ir, y=p_t, label=ocn))\n",
    "#groups2 = ff.groupby('label')\n",
    "\n",
    "GDP2['income'] = 0\n",
    "\n",
    "#GDP2.loc[ GDP2['code']==1, ['code'] ]"
   ]
  },
  {
   "cell_type": "code",
   "execution_count": 51,
   "metadata": {},
   "outputs": [],
   "source": [
    "\n",
    "#ff = pd.DataFrame(dict(x=p_ir, y=p_t, label=ocn))\n",
    "#groups2 = ff.groupby('label')\n",
    "\n",
    "GDP2['income'] = 0\n",
    "\n",
    "#GDP2.loc[ GDP2['code']==1, ['code'] ]\n",
    "\n",
    "GDP2"
   ]
  },
  {
   "cell_type": "code",
   "execution_count": 52,
   "metadata": {},
   "outputs": [],
   "source": [
    "\n",
    "#ff = pd.DataFrame(dict(x=p_ir, y=p_t, label=ocn))\n",
    "#groups2 = ff.groupby('label')\n",
    "\n",
    "GDP2['income'] = 0\n",
    "\n",
    "GDP2.loc[ GDP2['code']==1, ['code'] ]"
   ]
  },
  {
   "cell_type": "code",
   "execution_count": 53,
   "metadata": {},
   "outputs": [],
   "source": [
    "\n",
    "#ff = pd.DataFrame(dict(x=p_ir, y=p_t, label=ocn))\n",
    "#groups2 = ff.groupby('label')\n",
    "\n",
    "GDP2['income'] = 0\n",
    "bol1 = GDP2['code']==1\n",
    "\n",
    "GDP2.loc[bol1 , ['income'] ]"
   ]
  },
  {
   "cell_type": "code",
   "execution_count": 54,
   "metadata": {},
   "outputs": [],
   "source": [
    "\n",
    "#ff = pd.DataFrame(dict(x=p_ir, y=p_t, label=ocn))\n",
    "#groups2 = ff.groupby('label')\n",
    "\n",
    "GDP2['income'] = 0\n",
    "\n",
    "bol1 = GDP2['code']==1\n",
    "GDP2.loc[bol1 , ['income'] ] = 'High Income'\n",
    "\n",
    "\n",
    "bol2 = GDP2['code'] == 2\n",
    "GDP2.loc[bol2 , ['income'] ] = 'Middle Income'\n",
    "\n",
    "\n",
    "bol3 = GDP2['code'] == 3\n",
    "GDP2.loc[bol3 , ['income'] ] = 'Low Income'"
   ]
  },
  {
   "cell_type": "code",
   "execution_count": 55,
   "metadata": {},
   "outputs": [],
   "source": [
    "GDP2"
   ]
  },
  {
   "cell_type": "code",
   "execution_count": 56,
   "metadata": {},
   "outputs": [],
   "source": [
    "\n",
    "#ff = pd.DataFrame(dict(x=p_ir, y=p_t, label=ocn))\n",
    "#groups2 = ff.groupby('label')\n",
    "\n",
    "GDP2['income'] = 0\n",
    "\n",
    "bol1 = GDP2['code']==1\n",
    "GDP2.loc[bol1 , ['income'] ] = 'High Income'\n",
    "\n",
    "\n",
    "bol2 = GDP2['code'] == 2\n",
    "GDP2.loc[bol2 , ['income'] ] = 'Middle Income'\n",
    "\n",
    "\n",
    "bol3 = GDP2['code'] == 3\n",
    "GDP2.loc[bol3 , ['income'] ] = 'Low Income'\n",
    "\n",
    "group3 = GDP2.groupby('income')"
   ]
  },
  {
   "cell_type": "code",
   "execution_count": 57,
   "metadata": {},
   "outputs": [],
   "source": [
    "group3"
   ]
  },
  {
   "cell_type": "code",
   "execution_count": 58,
   "metadata": {},
   "outputs": [],
   "source": [
    "\n",
    "#ff = pd.DataFrame(dict(x=p_ir, y=p_t, label=ocn))\n",
    "#groups2 = ff.groupby('label')\n",
    "\n",
    "GDP2['income'] = 0\n",
    "\n",
    "bol1 = GDP2['code']==1\n",
    "GDP2.loc[bol1 , ['income'] ] = 'High Income'\n",
    "\n",
    "\n",
    "bol2 = GDP2['code'] == 2\n",
    "GDP2.loc[bol2 , ['income'] ] = 'Middle Income'\n",
    "\n",
    "\n",
    "bol3 = GDP2['code'] == 3\n",
    "GDP2.loc[bol3 , ['income'] ] = 'Low Income'\n",
    "\n",
    "group3 = GDP2.groupby('income')\n",
    "\n",
    "GDP2.head()"
   ]
  },
  {
   "cell_type": "code",
   "execution_count": 59,
   "metadata": {},
   "outputs": [],
   "source": [
    "ax, fig = plt.subplots(figsize=(10,8))\n",
    "ax[1].margins(0.05) \n",
    "for ocn, group in groups3:\n",
    "    ax[1].plot(grou3.GDP_model, group3.GDP_data, marker='o', linestyle='', ms=12, label=ocn)\n",
    "ax[1].xaxis.set_tick_params(labelsize=20)\n",
    "ax[1].yaxis.set_tick_params(labelsize=20)\n",
    "for ii, txt in enumerate(names2):\n",
    "    ax[1].annotate(txt, (p_ir[ii], p_t[ii]), size=20) "
   ]
  },
  {
   "cell_type": "code",
   "execution_count": 60,
   "metadata": {},
   "outputs": [],
   "source": [
    "ax, fig = plt.subplots(figsize=(10,8))\n",
    "#ax[1].margins(0.05) \n",
    "for ocn, group in groups3:\n",
    "    ax[1].plot(grou3.GDP_model, group3.GDP_data, marker='o', linestyle='', ms=12, label=ocn)\n",
    "ax[1].xaxis.set_tick_params(labelsize=20)\n",
    "ax[1].yaxis.set_tick_params(labelsize=20)\n",
    "for ii, txt in enumerate(names2):\n",
    "    ax[1].annotate(txt, (p_ir[ii], p_t[ii]), size=20) "
   ]
  },
  {
   "cell_type": "code",
   "execution_count": 61,
   "metadata": {},
   "outputs": [],
   "source": [
    "ax, fig = plt.subplots(figsize=(10,8))\n",
    "#ax[1].margins(0.05) \n",
    "for ocn, group in group3:\n",
    "    ax[1].plot(group3.GDP_model, group3.GDP_data, marker='o', linestyle='', ms=12, label=ocn)\n",
    "ax[1].xaxis.set_tick_params(labelsize=20)\n",
    "ax[1].yaxis.set_tick_params(labelsize=20)\n",
    "for ii, txt in enumerate(names2):\n",
    "    ax[1].annotate(txt, (p_ir[ii], p_t[ii]), size=20) "
   ]
  },
  {
   "cell_type": "code",
   "execution_count": 62,
   "metadata": {},
   "outputs": [],
   "source": [
    "ax, fig = plt.subplots(figsize=(10,8))\n",
    "#ax[1].margins(0.05) \n",
    "for income, group in group3:\n",
    "    ax[1].plot(group3.GDP_model, group3.GDP_data, marker='o', linestyle='', ms=12, label=income)\n",
    "ax[1].xaxis.set_tick_params(labelsize=20)\n",
    "ax[1].yaxis.set_tick_params(labelsize=20)\n",
    "for ii, txt in enumerate(names2):\n",
    "    ax[1].annotate(txt, (p_ir[ii], p_t[ii]), size=20) "
   ]
  },
  {
   "cell_type": "code",
   "execution_count": 63,
   "metadata": {},
   "outputs": [],
   "source": [
    "ax, fig = plt.subplots(1, 2, figsize=(10,8))\n",
    "#ax[1].margins(0.05) \n",
    "for income, group in group3:\n",
    "    ax[1].plot(group3.GDP_model, group3.GDP_data, marker='o', linestyle='', ms=12, label=income)\n",
    "ax[1].xaxis.set_tick_params(labelsize=20)\n",
    "ax[1].yaxis.set_tick_params(labelsize=20)\n",
    "for ii, txt in enumerate(names2):\n",
    "    ax[1].annotate(txt, (p_ir[ii], p_t[ii]), size=20) "
   ]
  },
  {
   "cell_type": "code",
   "execution_count": 64,
   "metadata": {},
   "outputs": [],
   "source": [
    "ax, fig = plt.subplots(figsize=(10,8))\n",
    "#ax[1].margins(0.05) \n",
    "for income, group in group3:\n",
    "    ax[1].plot(group3.GDP_model, group3.GDP_data, marker='o', linestyle='', ms=12, label=income)\n",
    "ax[1].xaxis.set_tick_params(labelsize=20)\n",
    "ax[1].yaxis.set_tick_params(labelsize=20)\n",
    "#for ii, txt in enumerate(names2):\n",
    "#    ax[1].annotate(txt, (p_ir[ii], p_t[ii]), size=20) "
   ]
  },
  {
   "cell_type": "code",
   "execution_count": 65,
   "metadata": {},
   "outputs": [],
   "source": [
    "ax, fig = plt.subplots(figsize=(10,8))\n",
    "#ax[1].margins(0.05) \n",
    "for income, group in group3:\n",
    "    ax[1].plot(group.GDP_model, group.GDP_data, marker='o', linestyle='', ms=12, label=income)\n",
    "\n",
    "    \n",
    "ax[1].xaxis.set_tick_params(labelsize=20)\n",
    "ax[1].yaxis.set_tick_params(labelsize=20)\n",
    "#for ii, txt in enumerate(names2):\n",
    "#    ax[1].annotate(txt, (p_ir[ii], p_t[ii]), size=20) "
   ]
  },
  {
   "cell_type": "code",
   "execution_count": 66,
   "metadata": {},
   "outputs": [],
   "source": [
    "ax, fig = plt.subplots(figsize=(10,8))\n",
    "#ax[1].margins(0.05) \n",
    "for income, group in group3:\n",
    "    ax.plot(group.GDP_model, group.GDP_data, marker='o', linestyle='', ms=12, label=income)\n",
    "\n",
    "    \n",
    "ax[1].xaxis.set_tick_params(labelsize=20)\n",
    "ax[1].yaxis.set_tick_params(labelsize=20)\n",
    "#for ii, txt in enumerate(names2):\n",
    "#    ax[1].annotate(txt, (p_ir[ii], p_t[ii]), size=20) "
   ]
  },
  {
   "cell_type": "code",
   "execution_count": 67,
   "metadata": {},
   "outputs": [],
   "source": [
    "\n",
    "\n",
    "zz = pd.DataFrame(dict(x=GDP2['GDP_model'], y=GDP2['GDP_data'], label=GDP2['income']))\n",
    "groups3 = zz.groupby('label')"
   ]
  },
  {
   "cell_type": "code",
   "execution_count": 68,
   "metadata": {},
   "outputs": [],
   "source": [
    "\n",
    "\n",
    "zz = pd.DataFrame(dict(x=GDP2['GDP_model'], y=GDP2['GDP_data'], label=GDP2['income']))\n",
    "groups3 = zz.groupby('label')\n",
    "\n",
    "groups3 "
   ]
  },
  {
   "cell_type": "code",
   "execution_count": 69,
   "metadata": {},
   "outputs": [],
   "source": [
    "\n",
    "\n",
    "zz = pd.DataFrame(dict(x=GDP2['GDP_model'], y=GDP2['GDP_data'], label=GDP2['income']))\n",
    "groups3 = zz.groupby('label')"
   ]
  },
  {
   "cell_type": "code",
   "execution_count": 70,
   "metadata": {},
   "outputs": [],
   "source": [
    "ax, fig = plt.subplots(figsize=(10,8))\n",
    "#ax[1].margins(0.05) \n",
    "for income, group in group3:\n",
    "    ax.plot(group.GDP_model, group.GDP_data, marker='o', linestyle='', ms=12, label=income)\n",
    "\n",
    "    \n",
    "ax[1].xaxis.set_tick_params(labelsize=20)\n",
    "ax[1].yaxis.set_tick_params(labelsize=20)\n",
    "#for ii, txt in enumerate(names2):\n",
    "#    ax[1].annotate(txt, (p_ir[ii], p_t[ii]), size=20) "
   ]
  },
  {
   "cell_type": "code",
   "execution_count": 71,
   "metadata": {},
   "outputs": [],
   "source": [
    "ax, fig = plt.subplots(figsize=(10,8))\n",
    "#ax[1].margins(0.05) \n",
    "for income, group in group3:\n",
    "    ax.plot(group.x, group.y, marker='o', linestyle='', ms=12, label=income)\n",
    "\n",
    "    \n",
    "ax[1].xaxis.set_tick_params(labelsize=20)\n",
    "ax[1].yaxis.set_tick_params(labelsize=20)\n",
    "#for ii, txt in enumerate(names2):\n",
    "#    ax[1].annotate(txt, (p_ir[ii], p_t[ii]), size=20) "
   ]
  },
  {
   "cell_type": "code",
   "execution_count": 72,
   "metadata": {},
   "outputs": [],
   "source": [
    "fig, ax = plt.subplots(figsize=(10,8))\n",
    "#ax[1].margins(0.05) \n",
    "for income, group in group3:\n",
    "    ax.plot(group.x, group.y, marker='o', linestyle='', ms=12, label=income)\n",
    "\n",
    "    \n",
    "ax[1].xaxis.set_tick_params(labelsize=20)\n",
    "ax[1].yaxis.set_tick_params(labelsize=20)\n",
    "#for ii, txt in enumerate(names2):\n",
    "#    ax[1].annotate(txt, (p_ir[ii], p_t[ii]), size=20) "
   ]
  },
  {
   "cell_type": "code",
   "execution_count": 73,
   "metadata": {},
   "outputs": [],
   "source": [
    "fig, ax = plt.subplots(figsize=(10,8))\n",
    "#ax[1].margins(0.05) \n",
    "for income, group in group3:\n",
    "    ax.plot(group.x, group.y, marker='o', linestyle='', ms=12, label=income)\n",
    "\n",
    "    \n",
    "ax[1].xaxis.set_tick_params(labelsize=20)\n",
    "ax[1].yaxis.set_tick_params(labelsize=20)\n",
    "#for ii, txt in enumerate(names2):\n",
    "#    ax[1].annotate(txt, (p_ir[ii], p_t[ii]), size=20) "
   ]
  },
  {
   "cell_type": "code",
   "execution_count": 74,
   "metadata": {},
   "outputs": [],
   "source": [
    "\n",
    "\n",
    "zz = pd.DataFrame(dict(x=GDP2['GDP_model'], y=GDP2['GDP_data'], label=GDP2['income']))\n",
    "groups3 = zz.groupby('label')\n",
    "\n",
    "group3()"
   ]
  },
  {
   "cell_type": "code",
   "execution_count": 75,
   "metadata": {},
   "outputs": [],
   "source": [
    "\n",
    "\n",
    "zz = pd.DataFrame(dict(x=GDP2['GDP_model'], y=GDP2['GDP_data'], label=GDP2['income']))\n",
    "groups3 = zz.groupby('label')\n",
    "\n",
    "group3"
   ]
  },
  {
   "cell_type": "code",
   "execution_count": 76,
   "metadata": {},
   "outputs": [],
   "source": [
    "\n",
    "\n",
    "zz = pd.DataFrame(dict(x=GDP2['GDP_model'], y=GDP2['GDP_data'], label=GDP2['income']))\n",
    "groups3 = zz.groupby('label')\n",
    "\n",
    "group3.head"
   ]
  },
  {
   "cell_type": "code",
   "execution_count": 77,
   "metadata": {},
   "outputs": [],
   "source": [
    "\n",
    "\n",
    "zz = pd.DataFrame(dict(x=GDP2['GDP_model'], y=GDP2['GDP_data'], label=GDP2['income']))\n",
    "groups3 = zz.groupby('label')\n",
    "\n",
    "group3.head()"
   ]
  },
  {
   "cell_type": "code",
   "execution_count": 78,
   "metadata": {},
   "outputs": [],
   "source": [
    "\n",
    "\n",
    "zz = pd.DataFrame(dict(x=GDP2['GDP_model'], y=GDP2['GDP_data'], label=GDP2['income']))\n",
    "groups3 = zz.groupby('income')\n",
    "\n",
    "group3.head()"
   ]
  },
  {
   "cell_type": "code",
   "execution_count": 79,
   "metadata": {},
   "outputs": [],
   "source": [
    "\n",
    "\n",
    "zz = pd.DataFrame(dict(x=GDP2['GDP_model'], y=GDP2['GDP_data'], label=GDP2['income']))\n",
    "groups3 = zz.groupby('label')\n",
    "\n",
    "group3.head()"
   ]
  },
  {
   "cell_type": "code",
   "execution_count": 80,
   "metadata": {},
   "outputs": [],
   "source": [
    "\n",
    "\n",
    "zz = pd.DataFrame(dict(x=GDP2['GDP_model'], y=GDP2['GDP_data'], label=GDP2['income']))\n",
    "groups3 = zz.groupby('label')\n",
    "\n",
    "group3.head()"
   ]
  },
  {
   "cell_type": "code",
   "execution_count": 81,
   "metadata": {},
   "outputs": [],
   "source": [
    "\n",
    "\n",
    "zz = pd.DataFrame(dict(x=GDP2['GDP_model'], y=GDP2['GDP_data'], label=GDP2['income']))\n",
    "groups3 = zz.groupby('label')\n",
    "\n",
    "#group3.head()\n",
    "zz"
   ]
  },
  {
   "cell_type": "code",
   "execution_count": 82,
   "metadata": {},
   "outputs": [],
   "source": [
    "\n",
    "\n",
    "zz = pd.DataFrame(dict(x=GDP2['GDP_model'], y=GDP2['GDP_data'], label=GDP2['income']))\n",
    "groups3 = zz.groupby('label')\n",
    "zz.groupby('label')"
   ]
  },
  {
   "cell_type": "code",
   "execution_count": 83,
   "metadata": {},
   "outputs": [],
   "source": [
    "\n",
    "\n",
    "zz = pd.DataFrame(dict(x=GDP2['GDP_model'], y=GDP2['GDP_data'], label=GDP2['income']))\n",
    "groups3 = zz.groupby('label')"
   ]
  },
  {
   "cell_type": "code",
   "execution_count": 84,
   "metadata": {},
   "outputs": [],
   "source": [
    "fig, ax = plt.subplots(figsize=(10,8))\n",
    "#ax[1].margins(0.05) \n",
    "for income, group in group3:\n",
    "    ax.plot(group.x, group.y, marker='o', linestyle='', ms=12, label=income)\n",
    "\n",
    "    \n",
    "ax[1].xaxis.set_tick_params(labelsize=20)\n",
    "ax[1].yaxis.set_tick_params(labelsize=20)\n",
    "#for ii, txt in enumerate(names2):\n",
    "#    ax[1].annotate(txt, (p_ir[ii], p_t[ii]), size=20) "
   ]
  },
  {
   "cell_type": "code",
   "execution_count": 85,
   "metadata": {},
   "outputs": [],
   "source": [
    "\n",
    "\n",
    "zz = pd.DataFrame(dict(x=GDP2['GDP_model'], y=GDP2['GDP_data'], label=GDP2['income']))\n",
    "group3 = zz.groupby('label')"
   ]
  },
  {
   "cell_type": "code",
   "execution_count": 86,
   "metadata": {},
   "outputs": [],
   "source": [
    "fig, ax = plt.subplots(figsize=(10,8))\n",
    "#ax[1].margins(0.05) \n",
    "for income, group in group3:\n",
    "    ax.plot(group.x, group.y, marker='o', linestyle='', ms=12, label=income)\n",
    "\n",
    "    \n",
    "ax[1].xaxis.set_tick_params(labelsize=20)\n",
    "ax[1].yaxis.set_tick_params(labelsize=20)\n",
    "#for ii, txt in enumerate(names2):\n",
    "#    ax[1].annotate(txt, (p_ir[ii], p_t[ii]), size=20) "
   ]
  },
  {
   "cell_type": "code",
   "execution_count": 87,
   "metadata": {},
   "outputs": [],
   "source": [
    "fig, ax = plt.subplots(figsize=(10,8))\n",
    "#ax[1].margins(0.05) \n",
    "for income, group in group3:\n",
    "    ax.plot(group.x, group.y, marker='o', linestyle='', ms=12, label=income)\n",
    "\n",
    "    \n",
    "ax.xaxis.set_tick_params(labelsize=20)\n",
    "ax.yaxis.set_tick_params(labelsize=20)\n",
    "#for ii, txt in enumerate(names2):\n",
    "#    ax[1].annotate(txt, (p_ir[ii], p_t[ii]), size=20) "
   ]
  },
  {
   "cell_type": "code",
   "execution_count": 88,
   "metadata": {},
   "outputs": [],
   "source": [
    "fig, ax = plt.subplots(figsize=(10,8))\n",
    "#ax[1].margins(0.05) \n",
    "for income, group in group3:\n",
    "    ax.plot(group.x, group.y, marker='o', linestyle='', ms=12, label=income)    \n",
    "ax.xaxis.set_tick_params(labelsize=20)\n",
    "ax.yaxis.set_tick_params(labelsize=20)\n",
    "for ii, txt in enumerate(names2):\n",
    "    ax.annotate(txt, (group.x[ii], group.y[ii]), size=20) \n",
    "\n",
    "ax.legend(loc=\"upper left\", prop={'size': 12})\n",
    "\n",
    "\n",
    "\n",
    "\n",
    "\n",
    "\n",
    "#for ii, txt in enumerate(names2):\n",
    "#    ax[1].annotate(txt, (p_ir[ii], p_t[ii]), size=20) "
   ]
  },
  {
   "cell_type": "code",
   "execution_count": 89,
   "metadata": {},
   "outputs": [],
   "source": [
    "fig, ax = plt.subplots(figsize=(10,8))\n",
    "#ax[1].margins(0.05) \n",
    "for income, group in group3:\n",
    "    ax.plot(group.x, group.y, marker='o', linestyle='', ms=12, label=income)    \n",
    "ax.xaxis.set_tick_params(labelsize=20)\n",
    "ax.yaxis.set_tick_params(labelsize=20)\n",
    "#for ii, txt in enumerate(names2):\n",
    "#    ax.annotate(txt, (group.x[ii], group.y[ii]), size=20) \n",
    "\n",
    "ax.legend(loc=\"upper left\", prop={'size': 12})\n",
    "\n",
    "\n",
    "\n",
    "\n",
    "\n",
    "\n",
    "#for ii, txt in enumerate(names2):\n",
    "#    ax[1].annotate(txt, (p_ir[ii], p_t[ii]), size=20) "
   ]
  },
  {
   "cell_type": "code",
   "execution_count": 90,
   "metadata": {},
   "outputs": [],
   "source": [
    "fig, ax = plt.subplots(figsize=(10,8))\n",
    "#ax[1].margins(0.05) \n",
    "for income, group in group3:\n",
    "    ax.plot(group.x, group.y, marker='o', linestyle='', ms=12, label=income)    \n",
    "ax.xaxis.set_tick_params(labelsize=20)\n",
    "ax.yaxis.set_tick_params(labelsize=20)\n",
    "ax.legend(loc=\"upper left\", prop={'size': 12})\n",
    "\n",
    "for ii, txt in enumerate(names2):\n",
    "    ax.annotate(txt, (group.x[ii], group.y[ii]), size=20) \n",
    "\n",
    "\n",
    "\n",
    "\n",
    "\n",
    "\n",
    "\n",
    "#for ii, txt in enumerate(names2):\n",
    "#    ax[1].annotate(txt, (p_ir[ii], p_t[ii]), size=20) "
   ]
  },
  {
   "cell_type": "code",
   "execution_count": 91,
   "metadata": {},
   "outputs": [],
   "source": [
    "fig, ax = plt.subplots(figsize=(10,8))\n",
    "#ax[1].margins(0.05) \n",
    "for income, group in group3:\n",
    "    ax.plot(group.x, group.y, marker='o', linestyle='', ms=12, label=income)    \n",
    "ax.xaxis.set_tick_params(labelsize=20)\n",
    "ax.yaxis.set_tick_params(labelsize=20)\n",
    "ax.legend(loc=\"upper left\", prop={'size': 12})\n",
    "\n",
    "for ii, txt in enumerate(names2):\n",
    "    ax.annotate(txt, (GDP2['GDP_model'][ii], GDP2['GDP_data'][ii]), size=20) \n",
    "\n",
    "\n",
    "\n",
    "\n",
    "\n",
    "\n",
    "\n",
    "#for ii, txt in enumerate(names2):\n",
    "#    ax[1].annotate(txt, (p_ir[ii], p_t[ii]), size=20) "
   ]
  },
  {
   "cell_type": "code",
   "execution_count": 92,
   "metadata": {},
   "outputs": [],
   "source": [
    "fig, ax = plt.subplots(figsize=(10,8))\n",
    "#ax[1].margins(0.05) \n",
    "for income, group in group3:\n",
    "    ax.plot(group.x, group.y, marker='o', linestyle='', ms=12, label=income)    \n",
    "ax.xaxis.set_tick_params(labelsize=20)\n",
    "ax.yaxis.set_tick_params(labelsize=20)\n",
    "ax.legend(loc=\"upper left\", prop={'size': 12})\n",
    "\n",
    "for ii, txt in enumerate(names2):\n",
    "    ax.annotate(txt, (GDP2['GDP_model'][ii], GDP2['GDP_data'][ii]), size=20) \n",
    "ax.grid(True)\n",
    "\n",
    "\n",
    "\n",
    "\n",
    "\n",
    "\n",
    "#for ii, txt in enumerate(names2):\n",
    "#    ax[1].annotate(txt, (p_ir[ii], p_t[ii]), size=20) "
   ]
  },
  {
   "cell_type": "code",
   "execution_count": 93,
   "metadata": {},
   "outputs": [],
   "source": [
    "\n",
    "# gpd per worker and hc \n",
    "\n",
    "H_tr = H_trf(z1)\n",
    "Y = Y_f(z1).sum(axis=0)\n",
    "names2 = n.columns.str.strip(\"'\")\n",
    "\n",
    "data1 = {'H_tr': H_tr, 'Y': Y, 'state': names2}\n",
    "\n",
    "HC = pd.merge(data1, GDP2, on='state')"
   ]
  },
  {
   "cell_type": "code",
   "execution_count": 94,
   "metadata": {},
   "outputs": [],
   "source": [
    "\n",
    "# gpd per worker and hc \n",
    "\n",
    "H_tr = H_trf(z1)\n",
    "Y = Y_f(z1).sum(axis=0)\n",
    "names2 = n.columns.str.strip(\"'\")\n",
    "\n",
    "data1 = {'H_tr': H_tr, 'Y': Y, 'state': names2}\n",
    "data1 = pd.DataFrame(data1)\n",
    "\n",
    "HC = pd.merge(data1, GDP2, on='state')"
   ]
  },
  {
   "cell_type": "code",
   "execution_count": 95,
   "metadata": {},
   "outputs": [],
   "source": [
    "\n",
    "# gpd per worker and hc \n",
    "\n",
    "H_tr = H_trf(z1)\n",
    "Y = Y_f(z1).sum(axis=0)\n",
    "names2 = n.columns.str.strip(\"'\")\n",
    "\n",
    "data1 = {'H_tr': H_tr, 'Y': Y, 'state': names2}\n",
    "data1 = pd.DataFrame(data1)\n",
    "\n",
    "HC = pd.merge(data1, GDP2, on='state')\n",
    "\n",
    "HC"
   ]
  },
  {
   "cell_type": "code",
   "execution_count": 96,
   "metadata": {},
   "outputs": [],
   "source": [
    "\n",
    "# gpd per worker and hc \n",
    "\n",
    "H_tr = H_trf(z1)\n",
    "Y = Y_f(z1).sum(axis=0)\n",
    "names2 = n.columns.str.strip(\"'\")\n",
    "\n",
    "data1 = {'H_tr': H_tr, 'Y': Y, 'state': names2}\n",
    "data1 = pd.DataFrame(data1)\n",
    "\n",
    "HC = pd.merge(data1, GDP2, on='state')\n",
    "\n",
    "\n",
    "\n",
    "hh = pd.DataFrame(dict(x=HC['H_tr'], y=HC['GDP_data'], label=GDP2['income']))\n",
    "group4 = hh.groupby('label')"
   ]
  },
  {
   "cell_type": "code",
   "execution_count": 97,
   "metadata": {},
   "outputs": [],
   "source": [
    "fig, ax = plt.subplots(figsize=(10,8))\n",
    "#ax[1].margins(0.05) \n",
    "for income, group in group4:\n",
    "    ax.plot(group.x, group.y, marker='o', linestyle='', ms=12, label=income)    \n",
    "ax.xaxis.set_tick_params(labelsize=20)\n",
    "ax.yaxis.set_tick_params(labelsize=20)\n",
    "ax.legend(loc=\"upper left\", prop={'size': 12})\n",
    "\n",
    "for ii, txt in enumerate(names2):\n",
    "    ax.annotate(txt, (HC['H_tr'][ii], GDP2['GDP_data'][ii]), size=20) \n",
    "ax.grid(True)"
   ]
  },
  {
   "cell_type": "code",
   "execution_count": 98,
   "metadata": {},
   "outputs": [],
   "source": [
    "fig, ax = plt.subplots(figsize=(10,8))\n",
    "#ax[1].margins(0.05) \n",
    "for income, group in group4:\n",
    "    ax.plot(group.x, group.y, marker='o', linestyle='', ms=12, label=income)    \n",
    "ax.xaxis.set_tick_params(labelsize=20)\n",
    "ax.yaxis.set_tick_params(labelsize=20)\n",
    "ax.legend(loc=\"upper right\", prop={'size': 12})\n",
    "\n",
    "for ii, txt in enumerate(names2):\n",
    "    ax.annotate(txt, (HC['H_tr'][ii], GDP2['GDP_data'][ii]), size=20) \n",
    "ax.grid(True)"
   ]
  },
  {
   "cell_type": "code",
   "execution_count": 99,
   "metadata": {},
   "outputs": [],
   "source": [
    "fig, ax = plt.subplots(figsize=(10,8))\n",
    "#ax[1].margins(0.05) \n",
    "for income, group in group4:\n",
    "    ax.plot(group.x, group.y, marker='o', linestyle='', ms=12, label=income)   \n",
    "yp = np.polyval([m, b], H_tr)\n",
    "ax.plot(HC['H_tr'], yp, label='Regression Line')\n",
    "ax.xaxis.set_tick_params(labelsize=20)\n",
    "ax.yaxis.set_tick_params(labelsize=20)\n",
    "ax.legend(loc=\"upper right\", prop={'size': 12})\n",
    "\n",
    "for ii, txt in enumerate(names2):\n",
    "    ax.annotate(txt, (HC['H_tr'][ii], GDP2['GDP_data'][ii]), size=20) \n",
    "ax.grid(True)"
   ]
  },
  {
   "cell_type": "code",
   "execution_count": 100,
   "metadata": {},
   "outputs": [],
   "source": [
    "fig, ax = plt.subplots(figsize=(10,8))\n",
    "#ax[1].margins(0.05) \n",
    "for income, group in group4:\n",
    "    ax.plot(group.x, group.y, marker='o', linestyle='', ms=12, label=income)   \n",
    "yp = np.polyval([m, b], H_tr)\n",
    "ax.plot(HC['H_tr'], yp, label='Regression Line')\n",
    "ax.xaxis.set_tick_params(labelsize=20)\n",
    "ax.yaxis.set_tick_params(labelsize=20)\n",
    "ax.legend(loc=\"upper right\", prop={'size': 12})\n",
    "\n",
    "for ii, txt in enumerate(names2):\n",
    "    ax.annotate(txt, (HC['H_tr'][ii], GDP2['GDP_data'][ii]), size=20) \n",
    "ax.grid(True)\n",
    "plt.tight_layout()    "
   ]
  },
  {
   "cell_type": "code",
   "execution_count": 101,
   "metadata": {},
   "outputs": [],
   "source": [
    "\n",
    "# gpd per worker and hc \n",
    "\n",
    "H_tr = H_trf(z1)\n",
    "Y = Y_f(z1).sum(axis=0)\n",
    "names2 = n.columns.str.strip(\"'\")\n",
    "\n",
    "data1 = {'H_tr': H_tr, 'Y': Y, 'state': names2}\n",
    "data1 = pd.DataFrame(data1)\n",
    "\n",
    "HC = pd.merge(data1, GDP2, on='state')\n",
    "\n",
    "\n",
    "\n",
    "hh = pd.DataFrame(dict(x=HC['H_tr'], y=HC['GDP_model'], label=GDP2['income']))\n",
    "group4 = hh.groupby('label')"
   ]
  },
  {
   "cell_type": "code",
   "execution_count": 102,
   "metadata": {},
   "outputs": [],
   "source": [
    "fig, ax = plt.subplots(figsize=(10,8))\n",
    "#ax[1].margins(0.05) \n",
    "for income, group in group4:\n",
    "    ax.plot(group.x, group.y, marker='o', linestyle='', ms=12, label=income)   \n",
    "yp = np.polyval([m, b], HC['H_tr'])\n",
    "ax.plot(HC['H_tr'], yp, label='Regression Line')\n",
    "ax.xaxis.set_tick_params(labelsize=20)\n",
    "ax.yaxis.set_tick_params(labelsize=20)\n",
    "ax.legend(loc=\"upper right\", prop={'size': 12})\n",
    "\n",
    "for ii, txt in enumerate(names2):\n",
    "    ax.annotate(txt, (HC['H_tr'][ii], GDP2['GDP_model'][ii]), size=20) \n",
    "ax.grid(True)\n",
    "plt.tight_layout()    "
   ]
  },
  {
   "cell_type": "code",
   "execution_count": 103,
   "metadata": {},
   "outputs": [],
   "source": [
    "fig, ax = plt.subplots(figsize=(10,8))\n",
    "#ax[1].margins(0.05) \n",
    "for income, group in group4:\n",
    "    ax.plot(group.x, group.y, marker='o', linestyle='', ms=12, label=income)   \n",
    "(m, b) = np.polyfit(HC['H_tr'], HC['GDP_model'], 1)\n",
    "yp = np.polyval([m, b], HC['H_tr'])\n",
    "ax.plot(HC['H_tr'], yp, label='Regression Line')\n",
    "ax.xaxis.set_tick_params(labelsize=20)\n",
    "ax.yaxis.set_tick_params(labelsize=20)\n",
    "ax.legend(loc=\"upper right\", prop={'size': 12})\n",
    "for ii, txt in enumerate(names2):\n",
    "    ax.annotate(txt, (HC['H_tr'][ii], HC['GDP_model'][ii]), size=20) \n",
    "ax.set_xlabel(\"GDP - Model\", fontsize=20)\n",
    "ax.set_ylabel(\"TFP - Model\", fontsize=20)\n",
    "ax.grid(True)\n",
    "plt.tight_layout()    "
   ]
  },
  {
   "cell_type": "code",
   "execution_count": 104,
   "metadata": {},
   "outputs": [],
   "source": [
    "fig, ax = plt.subplots(figsize=(10,8))\n",
    "#ax[1].margins(0.05) \n",
    "for income, group in group4:\n",
    "    ax.plot(group.x, group.y, marker='o', linestyle='', ms=12, label=income)   \n",
    "(m, b) = np.polyfit(HC['H_tr'], HC['GDP_model'], 1)\n",
    "yp = np.polyval([m, b], HC['H_tr'])\n",
    "ax.plot(HC['H_tr'], yp, label='Regression Line')\n",
    "ax.xaxis.set_tick_params(labelsize=20)\n",
    "ax.yaxis.set_tick_params(labelsize=20)\n",
    "ax.legend(loc=\"upper right\", prop={'size': 12})\n",
    "for ii, txt in enumerate(names2):\n",
    "    ax.annotate(txt, (HC['H_tr'][ii], HC['GDP_model'][ii]), size=20) \n",
    "ax.set_xlabel(\"Human Capital - Model\", fontsize=20)\n",
    "ax.set_ylabel(\"GDP - Model\", fontsize=20)\n",
    "ax.grid(True)\n",
    "plt.tight_layout()    "
   ]
  },
  {
   "cell_type": "code",
   "execution_count": 105,
   "metadata": {},
   "outputs": [],
   "source": [
    "fig, ax = plt.subplots(figsize=(10,8))\n",
    "#ax[1].margins(0.05) \n",
    "for income, group in group4:\n",
    "    ax.plot(group.x, group.y, marker='o', linestyle='', ms=12, label=income)   \n",
    "(m, b) = np.polyfit(HC['H_tr'], HC['GDP_model'], 1)\n",
    "yp = np.polyval([m, b], HC['H_tr'])\n",
    "ax.plot(HC['H_tr'], yp, color='black', label='Regression Line')\n",
    "ax.xaxis.set_tick_params(labelsize=20)\n",
    "ax.yaxis.set_tick_params(labelsize=20)\n",
    "ax.legend(loc=\"upper right\", prop={'size': 12})\n",
    "for ii, txt in enumerate(names2):\n",
    "    ax.annotate(txt, (HC['H_tr'][ii], HC['GDP_model'][ii]), size=20) \n",
    "ax.set_xlabel(\"Human Capital - Model\", fontsize=20)\n",
    "ax.set_ylabel(\"GDP - Model\", fontsize=20)\n",
    "ax.grid(True)\n",
    "plt.tight_layout()    "
   ]
  },
  {
   "cell_type": "code",
   "execution_count": 106,
   "metadata": {},
   "outputs": [],
   "source": [
    "\n",
    "## p_ir x teachers wage - fig4\n",
    "\n",
    "\n",
    "p_tr = p_trf(z1)\n",
    "\n",
    "twg = np.array(W).reshape(i, r)[(i-1), :]/np.array(W).reshape(i, r).sum(axis=0)\n",
    " \n",
    "\n",
    "\n",
    "names2 = n.columns.str.strip(\"'\")\n",
    "\n",
    "plt.subplots(figsize=(10,8))\n",
    "plt.scatter(twg, p_tr, s=10)\n",
    "plt.xticks(fontsize=20)\n",
    "plt.yticks(fontsize=20)\n",
    "(m, b) = np.polyfit(twg, p_tr, 1)\n",
    "yp = np.polyval([m, b], twg)\n",
    "plt.plot(twg, yp, label='Regression Line')\n",
    "for tt, txt in enumerate(names2):\n",
    "    plt.annotate(txt, (twg[tt], p_tr[tt]), size=20) \n",
    "plt.grid(True)\n",
    "plt.legend(loc=\"upper left\", prop={'size': 20})\n",
    "plt.xlabel(\" Teachers wage relative to other occupations - Model\", fontsize=20)\n",
    "plt.ylabel(\"Proportion of teachers - Model\", fontsize=20)\n",
    "plt.tight_layout()    \n",
    "plt.savefig(\"C:/Users/user/Downloads/paper_missalocation/paper/fig5.eps\", format='eps', dpi=1200)\n",
    "\n",
    "\n",
    "  \n",
    "\n",
    "\n",
    " "
   ]
  },
  {
   "cell_type": "code",
   "execution_count": 107,
   "metadata": {},
   "outputs": [],
   "source": [
    "\n",
    "## p_ir x teachers wage - fig4\n",
    "\n",
    "\n",
    "p_tr = p_trf(z1)\n",
    "\n",
    "twg = np.array(W).reshape(i, r)[(i-1), :]/np.array(W).reshape(i, r).sum(axis=0)\n",
    " \n",
    "\n",
    "\n",
    "names2 = n.columns.str.strip(\"'\")\n",
    "\n",
    "plt.subplots(figsize=(10,8))\n",
    "plt.scatter(twg, p_tr, s=10)\n",
    "plt.xticks(fontsize=20)\n",
    "plt.yticks(fontsize=20)\n",
    "(m, b) = np.polyfit(twg, p_tr, 1)\n",
    "yp = np.polyval([m, b], twg)\n",
    "plt.plot(twg, yp, label='Regression Line')\n",
    "for tt, txt in enumerate(names2):\n",
    "    plt.annotate(txt, (twg[tt], p_tr[tt]), size=20) \n",
    "plt.grid(True)\n",
    "plt.legend(loc=\"upper left\", prop={'size': 20})\n",
    "plt.xlabel(\" Teachers wage relative to other occupations - Model\", fontsize=20)\n",
    "plt.ylabel(\"Proportion of teachers - Model\", fontsize=20)\n",
    "plt.tight_layout()    \n",
    "#plt.savefig(\"C:/Users/user/Downloads/paper_missalocation/paper/fig5.eps\", format='eps', dpi=1200)\n",
    "\n",
    "\n",
    "  \n",
    "\n",
    "\n",
    " "
   ]
  },
  {
   "cell_type": "code",
   "execution_count": 108,
   "metadata": {},
   "outputs": [],
   "source": [
    "\n",
    "# gpd per worker and hc \n",
    "\n",
    "## p_ir x teachers wage - fig4\n",
    "\n",
    "\n",
    "p_tr = p_trf(z1)\n",
    "\n",
    "twg = np.array(W).reshape(i, r)[(i-1), :]/np.array(W).reshape(i, r).sum(axis=0)\n",
    " \n",
    "    \n",
    "names2 = n.columns.str.strip(\"'\")\n",
    "\n",
    "data2 = {'p_tr': p_tr, 'twg': twg, 'state': names2}\n",
    "data2 = pd.DataFrame(data2)\n",
    "\n",
    "TW = pd.merge(data2, GDP2, on='state')\n",
    "\n",
    "\n",
    "\n",
    "ww = pd.DataFrame(dict(x=TW['P_tr'], y=TW['twg'], label=TW['income']))\n",
    "group5 = ww.groupby('label')"
   ]
  },
  {
   "cell_type": "code",
   "execution_count": 109,
   "metadata": {},
   "outputs": [],
   "source": [
    "\n",
    "# gpd per worker and hc \n",
    "\n",
    "## p_ir x teachers wage - fig4\n",
    "\n",
    "\n",
    "p_tr = p_trf(z1)\n",
    "\n",
    "twg = np.array(W).reshape(i, r)[(i-1), :]/np.array(W).reshape(i, r).sum(axis=0)\n",
    " \n",
    "    \n",
    "names2 = n.columns.str.strip(\"'\")\n",
    "\n",
    "data2 = {'p_tr': p_tr, 'twg': twg, 'state': names2}\n",
    "data2 = pd.DataFrame(data2)\n",
    "\n",
    "TW = pd.merge(data2, GDP2, on='state')\n",
    "\n",
    "\n",
    "\n",
    "ww = pd.DataFrame(dict(x=TW['p_tr'], y=TW['twg'], label=TW['income']))\n",
    "group5 = ww.groupby('label')"
   ]
  },
  {
   "cell_type": "code",
   "execution_count": 110,
   "metadata": {},
   "outputs": [],
   "source": [
    "fig, ax = plt.subplots(figsize=(10,8))\n",
    "#ax[1].margins(0.05) \n",
    "for income, group in group5:\n",
    "    ax.plot(group.x, group.y, marker='o', linestyle='', ms=12, label=income)   \n",
    "#(m, b) = np.polyfit(HC['H_tr'], HC['GDP_model'], 1)\n",
    "#yp = np.polyval([m, b], HC['H_tr'])\n",
    "#ax.plot(HC['H_tr'], yp, color='black', label='Regression Line')\n",
    "ax.xaxis.set_tick_params(labelsize=20)\n",
    "ax.yaxis.set_tick_params(labelsize=20)\n",
    "ax.legend(loc=\"upper right\", prop={'size': 12})\n",
    "for ii, txt in enumerate(names2):\n",
    "    ax.annotate(txt, (TW['p_tr'][ii], TW['twg'][ii]), size=20) \n",
    "ax.set_xlabel(\"Proportion of teachers - Model\", fontsize=20)\n",
    "ax.set_ylabel(\"Teachers wage relative to other occupations - Model\", fontsize=20)\n",
    "ax.grid(True)\n",
    "plt.tight_layout() "
   ]
  },
  {
   "cell_type": "code",
   "execution_count": 111,
   "metadata": {},
   "outputs": [],
   "source": [
    "fig, ax = plt.subplots(figsize=(10,8))\n",
    "#ax[1].margins(0.05) \n",
    "for income, group in group5:\n",
    "    ax.plot(group.x, group.y, marker='o', linestyle='', ms=12, label=income)   \n",
    "#(m, b) = np.polyfit(HC['H_tr'], HC['GDP_model'], 1)\n",
    "#yp = np.polyval([m, b], HC['H_tr'])\n",
    "#ax.plot(HC['H_tr'], yp, color='black', label='Regression Line')\n",
    "ax.xaxis.set_tick_params(labelsize=20)\n",
    "ax.yaxis.set_tick_params(labelsize=20)\n",
    "ax.legend(loc=\"lower right\", prop={'size': 12})\n",
    "for ii, txt in enumerate(names2):\n",
    "    ax.annotate(txt, (TW['p_tr'][ii], TW['twg'][ii]), size=20) \n",
    "ax.set_xlabel(\"Proportion of teachers - Model\", fontsize=20)\n",
    "ax.set_ylabel(\"Teachers wage relative to other occupations - Model\", fontsize=20)\n",
    "ax.grid(True)\n",
    "plt.tight_layout() "
   ]
  },
  {
   "cell_type": "code",
   "execution_count": 112,
   "metadata": {},
   "outputs": [],
   "source": [
    "fig, ax = plt.subplots(figsize=(10,8))\n",
    "#ax[1].margins(0.05) \n",
    "for income, group in group5:\n",
    "    ax.plot(group.x, group.y, marker='o', linestyle='', ms=12, label=income)   \n",
    "(m, b) = np.polyfit(TW['twg'], TW['p_tr'], 1)\n",
    "yp = np.polyval([m, b], TW['twg'])\n",
    "ax.plot(TW['twg'], yp, label='Regression Line')\n",
    "ax.xaxis.set_tick_params(labelsize=20)\n",
    "ax.yaxis.set_tick_params(labelsize=20)\n",
    "ax.legend(loc=\"lower right\", prop={'size': 12})\n",
    "for ii, txt in enumerate(names2):\n",
    "    ax.annotate(txt, (TW['p_tr'][ii], TW['twg'][ii]), size=20) \n",
    "ax.set_xlabel(\"Teachers wage relative to other occupations - Model\", fontsize=20)\n",
    "ax.set_ylabel(\"Proportion of teachers - Model\", fontsize=20)\n",
    "ax.grid(True)\n",
    "plt.tight_layout() "
   ]
  },
  {
   "cell_type": "code",
   "execution_count": 113,
   "metadata": {},
   "outputs": [],
   "source": [
    "fig, ax = plt.subplots(figsize=(10,8))\n",
    "#ax[1].margins(0.05) \n",
    "for income, group in group5:\n",
    "    ax.plot(group.x, group.y, marker='o', linestyle='', ms=12, label=income)   \n",
    "(m, b) = np.polyfit(TW['twg'], TW['p_tr'], 1)\n",
    "yp = np.polyval([m, b], TW['twg'])\n",
    "ax.plot(TW['twg'], yp, label='Regression Line')\n",
    "ax.xaxis.set_tick_params(labelsize=20)\n",
    "ax.yaxis.set_tick_params(labelsize=20)\n",
    "ax.legend(loc=\"lower right\", prop={'size': 12})\n",
    "for ii, txt in enumerate(names2):\n",
    "    ax.annotate(txt, (TW['twg'][ii], TW['p_tr'][ii]), size=20) \n",
    "ax.set_xlabel(\"Teachers wage relative to other occupations - Model\", fontsize=20)\n",
    "ax.set_ylabel(\"Proportion of teachers - Model\", fontsize=20)\n",
    "ax.grid(True)\n",
    "plt.tight_layout() "
   ]
  },
  {
   "cell_type": "code",
   "execution_count": 114,
   "metadata": {},
   "outputs": [],
   "source": [
    "\n",
    "# gpd per worker and hc \n",
    "\n",
    "## p_ir x teachers wage - fig4\n",
    "\n",
    "\n",
    "p_tr = p_trf(z1)\n",
    "\n",
    "twg = np.array(W).reshape(i, r)[(i-1), :]/np.array(W).reshape(i, r).sum(axis=0)\n",
    " \n",
    "    \n",
    "names2 = n.columns.str.strip(\"'\")\n",
    "\n",
    "data2 = {'p_tr': p_tr, 'twg': twg, 'state': names2}\n",
    "data2 = pd.DataFrame(data2)\n",
    "\n",
    "TW = pd.merge(data2, GDP2, on='state')\n",
    "\n",
    "\n",
    "\n",
    "ww = pd.DataFrame(dict(x=TW['twg'], y=TW['p_tr'], label=TW['income']))\n",
    "group5 = ww.groupby('label')"
   ]
  },
  {
   "cell_type": "code",
   "execution_count": 115,
   "metadata": {},
   "outputs": [],
   "source": [
    "fig, ax = plt.subplots(figsize=(10,8))\n",
    "#ax[1].margins(0.05) \n",
    "for income, group in group5:\n",
    "    ax.plot(group.x, group.y, marker='o', linestyle='', ms=12, label=income)   \n",
    "(m, b) = np.polyfit(TW['twg'], TW['p_tr'], 1)\n",
    "yp = np.polyval([m, b], TW['twg'])\n",
    "ax.plot(TW['twg'], yp, label='Regression Line')\n",
    "ax.xaxis.set_tick_params(labelsize=20)\n",
    "ax.yaxis.set_tick_params(labelsize=20)\n",
    "ax.legend(loc=\"lower right\", prop={'size': 12})\n",
    "for ii, txt in enumerate(names2):\n",
    "    ax.annotate(txt, (TW['twg'][ii], TW['p_tr'][ii]), size=20) \n",
    "ax.set_xlabel(\"Teachers wage relative to other occupations - Model\", fontsize=20)\n",
    "ax.set_ylabel(\"Proportion of teachers - Model\", fontsize=20)\n",
    "ax.grid(True)\n",
    "plt.tight_layout() "
   ]
  },
  {
   "cell_type": "code",
   "execution_count": 116,
   "metadata": {},
   "outputs": [],
   "source": [
    "fig, ax = plt.subplots(figsize=(10,8))\n",
    "#ax[1].margins(0.05) \n",
    "for income, group in group5:\n",
    "    ax.plot(group.x, group.y, marker='o', linestyle='', ms=12, label=income)   \n",
    "(m, b) = np.polyfit(TW['twg'], TW['p_tr'], 1)\n",
    "yp = np.polyval([m, b], TW['twg'])\n",
    "ax.plot(TW['twg'], yp, label='Regression Line')\n",
    "ax.xaxis.set_tick_params(labelsize=20)\n",
    "ax.yaxis.set_tick_params(labelsize=20)\n",
    "ax.legend(loc=\"upper left\", prop={'size': 12})\n",
    "for ii, txt in enumerate(names2):\n",
    "    ax.annotate(txt, (TW['twg'][ii], TW['p_tr'][ii]), size=20) \n",
    "ax.set_xlabel(\"Teachers wage relative to other occupations - Model\", fontsize=20)\n",
    "ax.set_ylabel(\"Proportion of teachers - Model\", fontsize=20)\n",
    "ax.grid(True)\n",
    "plt.tight_layout() "
   ]
  },
  {
   "cell_type": "code",
   "execution_count": 117,
   "metadata": {},
   "outputs": [],
   "source": [
    "fig, ax = plt.subplots(figsize=(10,8))\n",
    "#ax[1].margins(0.05) \n",
    "for income, group in group4:\n",
    "    ax.plot(group.x, group.y, marker='o', linestyle='', ms=12, label=income)   \n",
    "(m, b) = np.polyfit(HC['H_tr'], HC['GDP_model'], 1)\n",
    "yp = np.polyval([m, b], HC['H_tr'])\n",
    "ax.plot(HC['H_tr'], yp, color='black', label='Regression Line')\n",
    "ax.xaxis.set_tick_params(labelsize=20)\n",
    "ax.yaxis.set_tick_params(labelsize=20)\n",
    "ax.legend(loc=\"upper right\", prop={'size': 12})\n",
    "for ii, txt in enumerate(names2):\n",
    "    ax.annotate(txt, (HC['H_tr'][ii], HC['GDP_model'][ii]), size=20) \n",
    "ax.set_xlabel(\"Human capital of teachers - Model\", fontsize=20)\n",
    "ax.set_ylabel(\"GDP - Model\", fontsize=20)\n",
    "ax.grid(True)\n",
    "plt.tight_layout()    "
   ]
  },
  {
   "cell_type": "code",
   "execution_count": 118,
   "metadata": {},
   "outputs": [],
   "source": [
    "fig, ax = plt.subplots(figsize=(10,8))\n",
    "#ax[1].margins(0.05) \n",
    "for income, group in group5:\n",
    "    ax.plot(group.x, group.y, marker='o', linestyle='', ms=12, label=income)   \n",
    "(m, b) = np.polyfit(TW['twg'], TW['p_tr'], 1)\n",
    "yp = np.polyval([m, b], TW['twg'])\n",
    "ax.plot(TW['twg'], yp, color='black', label='Regression Line')\n",
    "ax.xaxis.set_tick_params(labelsize=20)\n",
    "ax.yaxis.set_tick_params(labelsize=20)\n",
    "ax.legend(loc=\"upper left\", prop={'size': 12})\n",
    "for ii, txt in enumerate(names2):\n",
    "    ax.annotate(txt, (TW['twg'][ii], TW['p_tr'][ii]), size=20) \n",
    "ax.set_xlabel(\"Teachers wage relative to other occupations - Model\", fontsize=20)\n",
    "ax.set_ylabel(\"Proportion of teachers - Model\", fontsize=20)\n",
    "ax.grid(True)\n",
    "plt.tight_layout() "
   ]
  },
  {
   "cell_type": "code",
   "execution_count": 119,
   "metadata": {},
   "outputs": [],
   "source": [
    "fig, ax = plt.subplots(figsize=(10,8))\n",
    "#ax[1].margins(0.05) \n",
    "for income, group in group4:\n",
    "    ax.plot(group.x, group.y, marker='o', linestyle='', ms=12, label=income)   \n",
    "(m, b) = np.polyfit(HC['H_tr'], HC['GDP_model'], 1)\n",
    "yp = np.polyval([m, b], HC['H_tr'])\n",
    "ax.plot(HC['H_tr'], yp, color='black', label='Regression Line')\n",
    "ax.xaxis.set_tick_params(labelsize=20)\n",
    "ax.yaxis.set_tick_params(labelsize=20)\n",
    "ax.legend(loc=\"upper right\", prop={'size': 12})\n",
    "for ii, txt in enumerate(names2):\n",
    "    ax.annotate(txt, (HC['H_tr'][ii], HC['GDP_model'][ii]), size=20) \n",
    "ax.set_xlabel(\"Average human capital of teachers - Model\", fontsize=20)\n",
    "ax.set_ylabel(\"GDP - Model\", fontsize=20)\n",
    "ax.grid(True)\n",
    "plt.tight_layout()    "
   ]
  }
 ],
 "metadata": {},
 "nbformat": 4,
 "nbformat_minor": 4
}
