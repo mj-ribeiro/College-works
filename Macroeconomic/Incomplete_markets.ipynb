{
 "cells": [
  {
   "cell_type": "markdown",
   "metadata": {},
   "source": [
    "## Incomplete markets model"
   ]
  },
  {
   "cell_type": "code",
   "execution_count": 1,
   "metadata": {},
   "outputs": [],
   "source": [
    "import numpy as np\n",
    "import matplotlib.pyplot as plt"
   ]
  },
  {
   "cell_type": "code",
   "execution_count": 2,
   "metadata": {},
   "outputs": [],
   "source": [
    "util = lambda x: ( x**(1 - sig) - 1 )/ (1- sig)"
   ]
  },
  {
   "cell_type": "code",
   "execution_count": 3,
   "metadata": {},
   "outputs": [],
   "source": [
    "def pars():\n",
    "    global w, r, sig, delta, alfa, beta, pi, n_y, n_a, a_grid, \\\n",
    "    y_grid, V\n",
    "    \n",
    "    w, r = 1, 0.05\n",
    "    \n",
    "    sig, delta, alfa, beta = 2, 0.08, 0.44, 0.98\n",
    "    \n",
    "    pi = np.array(([0.4, 0.5, 0.1],\n",
    "                  [0.3, 0.2, 0.5],\n",
    "                  [0.2, 0.2, 0.6]))\n",
    "    \n",
    "    y_min, y_max, n_y = 1, 3, len(pi)\n",
    "    y_grid = np.linspace(y_min, y_max, n_y)\n",
    "    \n",
    "    a_min, a_max, n_a = 0, 5, 3\n",
    "    a_grid = np.linspace(a_min, a_max, n_a)\n",
    "    V = np.zeros((n_y, n_a)) \n",
    "    \n",
    "\n",
    "pars()\n",
    "    "
   ]
  },
  {
   "cell_type": "code",
   "execution_count": 4,
   "metadata": {},
   "outputs": [],
   "source": [
    "\n",
    "def obj_f(V):\n",
    "    obj = np.zeros((n_y, n_a, n_a))\n",
    "    \n",
    "    for i_y, y in enumerate(y_grid):\n",
    "        for i_a, a in enumerate(a_grid):\n",
    "            for i_aa, aa in enumerate(a_grid):\n",
    "                c = w*y + (1 + r)*a - aa\n",
    "                \n",
    "                if c <= 0:\n",
    "                    obj[i_y, i_a, i_aa] = -np.inf\n",
    "                else:\n",
    "                    obj[i_y, i_a, i_aa] = util(c) + \\\n",
    "                    beta*np.dot(pi[i_y, :], V[:, i_aa])\n",
    "    return obj\n",
    "\n",
    "\n"
   ]
  },
  {
   "cell_type": "code",
   "execution_count": 5,
   "metadata": {},
   "outputs": [],
   "source": [
    "def Tv_f(obj):\n",
    "    Tv = np.zeros((n_y, n_a))\n",
    "    Tg = np.zeros((n_y, n_a), dtype=np.int)\n",
    "    \n",
    "    for i_y in range(n_y):\n",
    "        for i_a in range(n_a):\n",
    "            Tv[i_y, i_a] = np.max(obj[i_y, i_a, :])\n",
    "            Tg[i_y, i_a] = np.argmax(obj[i_y, i_a, :])\n",
    "    return Tv, Tg\n",
    "\n"
   ]
  },
  {
   "cell_type": "code",
   "execution_count": 6,
   "metadata": {},
   "outputs": [],
   "source": [
    "def solve1():\n",
    "    global V\n",
    "    norma, tol = 1, 1e-6\n",
    "    while norma > tol:\n",
    "        obj = obj_f(V)\n",
    "        Tv, Tg = Tv_f(obj)\n",
    "\n",
    "        norma = np.max(np.abs(Tv - V))\n",
    "        V = np.copy(Tv)\n",
    "        iG = np.copy(Tg)\n",
    "       # print(f'Norma = {norma}')\n",
    "    return V, iG\n",
    "    \n",
    "V, iG = solve1()"
   ]
  },
  {
   "cell_type": "code",
   "execution_count": null,
   "metadata": {},
   "outputs": [],
   "source": []
  },
  {
   "cell_type": "code",
   "execution_count": 7,
   "metadata": {},
   "outputs": [],
   "source": [
    "def M_f(iG):\n",
    "    \n",
    "    M = np.zeros((n_a*n_y, n_a*n_y))\n",
    "    \n",
    "    for i_y in range(n_y):\n",
    "        for i_a in range(n_a):\n",
    "            \n",
    "            c_state = i_y*n_a + i_a\n",
    "            \n",
    "            for i_yy in range(n_y):\n",
    "                for i_aa in range(n_a):\n",
    "                    \n",
    "                    n_state = i_yy*n_a + i_aa\n",
    "                    \n",
    "                    if iG[i_y, i_a] == i_aa:\n",
    "                        \n",
    "                        M[c_state, n_state] = pi[i_y, i_yy]\n",
    "                        \n",
    "    return M\n",
    "    \n",
    "M = M_f(iG)"
   ]
  },
  {
   "cell_type": "code",
   "execution_count": 8,
   "metadata": {},
   "outputs": [],
   "source": [
    "def barM_f(M):\n",
    "    \n",
    "    barM = np.ones(n_a*n_y)/(n_a*n_y)    \n",
    "    norma, tol = 1, 1e-6\n",
    "    \n",
    "    while norma>tol:        \n",
    "        T_barM = np.dot(barM, M)\n",
    "        norma = np.max(np.abs(T_barM - barM))\n",
    "        barM = np.copy(T_barM)\n",
    "        \n",
    "    return barM\n",
    "\n",
    "\n",
    "barM = barM_f(M)"
   ]
  },
  {
   "cell_type": "code",
   "execution_count": 9,
   "metadata": {},
   "outputs": [],
   "source": [
    "def poup_f():\n",
    "    Ea = 0\n",
    "    for i_y in range(n_y):\n",
    "        for i_a in range(n_a):\n",
    "           \n",
    "            s_ind = iG[i_y, i_a]\n",
    "            poup = a_grid[s_ind]\n",
    "\n",
    "            t_ind = i_y*n_a + i_a\n",
    "            dist_stat = barM[t_ind]\n",
    "\n",
    "            Ea += poup*dist_stat\n",
    "    return Ea\n",
    "    "
   ]
  },
  {
   "cell_type": "code",
   "execution_count": 10,
   "metadata": {},
   "outputs": [],
   "source": [
    "def trab_f():\n",
    "    L = 0 \n",
    "    for i_y in range(n_y):\n",
    "        for i_a in range(n_a):\n",
    "            ofer_t = y_grid[i_y]\n",
    "            \n",
    "            t_ind = i_y*n_a + i_a\n",
    "            dist_stat = barM[t_ind]\n",
    "            \n",
    "            L += ofer_t*dist_stat\n",
    "    return L"
   ]
  },
  {
   "cell_type": "code",
   "execution_count": 11,
   "metadata": {},
   "outputs": [],
   "source": [
    "def dist_f(r):\n",
    "    \n",
    "    k = (alfa/(r + delta))**(1 / (1- alfa) ) \n",
    "    w = (1 - alfa)*(k**alfa)\n",
    "    \n",
    "    V, iG = solve1()\n",
    "    M = M_f(iG)\n",
    "    barM = barM_f(M)\n",
    "    \n",
    "    Ea = poup_f()\n",
    "    L = trab_f()\n",
    "        \n",
    "    K = k*L\n",
    "    \n",
    "    d = K - Ea\n",
    "    return d"
   ]
  },
  {
   "cell_type": "code",
   "execution_count": 12,
   "metadata": {},
   "outputs": [],
   "source": [
    "pars()\n",
    "r_grid = np.arange(0, 1, 0.01)\n",
    "d_grid = dist_f(r_grid)"
   ]
  },
  {
   "cell_type": "code",
   "execution_count": 13,
   "metadata": {},
   "outputs": [
    {
     "data": {
      "image/png": "[encoded data removed]",
      "text/plain": [
       "<Figure size 720x432 with 1 Axes>"
      ]
     },
     "metadata": {
      "needs_background": "light"
     },
     "output_type": "display_data"
    }
   ],
   "source": [
    "plt.subplots(figsize=(10,6))\n",
    "plt.plot(r_grid, d_grid)\n",
    "plt.xlabel('Juros', fontsize=20)\n",
    "plt.ylabel('Distância', fontsize=20)\n",
    "plt.xticks(fontsize=18)\n",
    "plt.yticks(fontsize=18)\n",
    "plt.grid(True)\n"
   ]
  },
  {
   "cell_type": "code",
   "execution_count": 61,
   "metadata": {},
   "outputs": [],
   "source": [
    "def solve2():\n",
    "    print('Calculando o SS final...')\n",
    "    norma, tol = 1, 1e-6\n",
    "    \n",
    "    r_l, r_h = -1, 7\n",
    "    while norma>tol:\n",
    "        r_bar = (r_l + r_h)*0.5\n",
    "        \n",
    "        if dist_f(r_bar) > 0:\n",
    "            r_l = r_bar\n",
    "        else:\n",
    "            r_h = r_bar\n",
    "        norma = np.abs(r_h - r_l)\n",
    "    \n",
    "        print(f'd = {np.around(dist_f(r_bar), 4 ):.<10} norma = {np.around(norma, 4 ):.<10} r = {np.around(r_l, 4)}')\n",
    "    \n",
    "    \n",
    "    "
   ]
  },
  {
   "cell_type": "code",
   "execution_count": 62,
   "metadata": {},
   "outputs": [
    {
     "name": "stdout",
     "output_type": "stream",
     "text": [
      "Calculando o SS final...\n",
      "d = -4.9336... norma = 4.0....... r = -1\n",
      "d = -4.5688... norma = 2.0....... r = -1\n",
      "d = 39.9852... norma = 1.0....... r = 0.0\n",
      "d = -3.6916... norma = 0.5....... r = 0.0\n",
      "d = -1.4182... norma = 0.25...... r = 0.0\n",
      "d = 3.3813.... norma = 0.125..... r = 0.125\n",
      "d = 0.2112.... norma = 0.0625.... r = 0.1875\n",
      "d = -0.7219... norma = 0.0312.... r = 0.1875\n",
      "d = -0.2912... norma = 0.0156.... r = 0.1875\n",
      "d = -0.0499... norma = 0.0078.... r = 0.1875\n",
      "d = 0.078..... norma = 0.0039.... r = 0.1914\n",
      "d = 0.0134.... norma = 0.002..... r = 0.1934\n",
      "d = -0.0184... norma = 0.001..... r = 0.1934\n",
      "d = -0.0025... norma = 0.0005.... r = 0.1934\n",
      "d = 0.0054.... norma = 0.0002.... r = 0.1936\n",
      "d = 0.0015.... norma = 0.0001.... r = 0.1937\n",
      "d = -0.0005... norma = 0.0001.... r = 0.1937\n",
      "d = 0.0005.... norma = 0.0....... r = 0.1938\n",
      "d = -0.0...... norma = 0.0....... r = 0.1938\n",
      "d = 0.0002.... norma = 0.0....... r = 0.1938\n",
      "d = 0.0001.... norma = 0.0....... r = 0.1938\n",
      "d = 0.0....... norma = 0.0....... r = 0.1938\n",
      "d = -0.0...... norma = 0.0....... r = 0.1938\n"
     ]
    }
   ],
   "source": [
    "pars()\n",
    "solve2()"
   ]
  },
  {
   "cell_type": "code",
   "execution_count": null,
   "metadata": {},
   "outputs": [],
   "source": []
  }
 ],
 "metadata": {
  "kernelspec": {
   "display_name": "Python 3",
   "language": "python",
   "name": "python3"
  },
  "language_info": {
   "codemirror_mode": {
    "name": "ipython",
    "version": 3
   },
   "file_extension": ".py",
   "mimetype": "text/x-python",
   "name": "python",
   "nbconvert_exporter": "python",
   "pygments_lexer": "ipython3",
   "version": "3.7.4"
  }
 },
 "nbformat": 4,
 "nbformat_minor": 4
}
