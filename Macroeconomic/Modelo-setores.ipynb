{
 "cells": [
  {
   "cell_type": "code",
   "execution_count": 1,
   "metadata": {},
   "outputs": [],
   "source": [
    "import numpy as np\n",
    "from math import gamma\n",
    "import matplotlib.pyplot as plt\n",
    "from scipy.optimize import minimize\n",
    "\n",
    "np.set_printoptions(suppress=True) # supress scientific notation\n"
   ]
  },
  {
   "cell_type": "code",
   "execution_count": 2,
   "metadata": {},
   "outputs": [],
   "source": [
    "## parâmetros\n",
    "\n",
    "def pars(st=3):\n",
    "    global rho, beta, theta, eta, psi, kappa, lamb, gamma1, G, phi\n",
    "    \n",
    "    np.random.seed(11)\n",
    "    #a = np.random.rand(st)\n",
    "    #alfa = a/np.sum(a)\n",
    "    \n",
    "    rho = 0.19\n",
    "    beta = 2\n",
    "\n",
    "    theta = 3.44\n",
    "    eta = 0.25\n",
    "    psi = eta**eta*(1-eta)**(1-eta)\n",
    "    kappa = 1/(1 - eta)\n",
    "\n",
    "    lamb = (theta*(1 - eta) - 1 ) / (theta*(1- eta)) \n",
    "    gamma1 = eta*kappa\n",
    "    \n",
    "    G = gamma(   1 - np.multiply( np.divide(1, np.multiply(theta, (1-rho)) ), np.divide(1, (1 - eta) ) ) )   \n",
    "\n",
    "    phi = np.random.rand(st)\n",
    "    #tau = np.random.rand(st)\n",
    "\n",
    "  \n",
    "    \n"
   ]
  },
  {
   "cell_type": "code",
   "execution_count": null,
   "metadata": {},
   "outputs": [],
   "source": []
  },
  {
   "cell_type": "code",
   "execution_count": 89,
   "metadata": {},
   "outputs": [],
   "source": [
    "\n",
    "def taus2(st):\n",
    "        \n",
    "    tau = np.random.uniform(low=-0.99, high=1000, size=(st))\n",
    "    tau[0] = 100\n",
    "\n",
    "    alfa = np.random.uniform(low=0, high=1, size=(st))\n",
    "    alfa = alfa/np.sum(alfa)\n",
    "    \n",
    "    x1 = np.array([tau, alfa])\n",
    "    \n",
    "    return x1\n",
    "st = 10\n",
    "x1 = taus2(st)"
   ]
  },
  {
   "cell_type": "code",
   "execution_count": 4,
   "metadata": {},
   "outputs": [],
   "source": [
    "# Tempo Gasto na escola\n",
    "\n",
    "def sf( ):\n",
    "    global s\n",
    "    s = np.power( (1+ np.divide( (1-eta), ( np.multiply(beta, phi) ) ) ), -1 )\n",
    "    #s = s.reshape(st, 1)\n",
    "    return s\n",
    "\n"
   ]
  },
  {
   "cell_type": "code",
   "execution_count": null,
   "metadata": {},
   "outputs": [],
   "source": []
  },
  {
   "cell_type": "code",
   "execution_count": 5,
   "metadata": {},
   "outputs": [],
   "source": [
    "## N_i = H_i / w_i^gamma1\n",
    "\n",
    "def N_if(x1):\n",
    "    B = np.power((1 + x1[0]), -eta)\n",
    "    S = np.multiply(np.power(s, phi), np.power((1 - s), ((1-eta)/beta) ) )  \n",
    "    \n",
    "    A_i = np.power(np.multiply(psi, np.multiply(B, S) ), theta*lamb )\n",
    "    \n",
    "    C = np.power( (1+ x1[0]), -gamma1 ) \n",
    "    D = np.multiply(np.power( s, (phi*(1-gamma1)) ), np.power(eta, gamma1) ) \n",
    "    \n",
    "    N_i = np.multiply(np.multiply(np.multiply(C, D), G ), A_i )\n",
    "    return N_i\n",
    "    \n"
   ]
  },
  {
   "cell_type": "code",
   "execution_count": null,
   "metadata": {},
   "outputs": [],
   "source": []
  },
  {
   "cell_type": "code",
   "execution_count": 6,
   "metadata": {},
   "outputs": [],
   "source": [
    "#  sistema linear\n",
    "\n",
    "def lin_sys(x1):\n",
    "    A = np.repeat(x1[1], st).reshape(st, st).T  # matriz de parâmetros\n",
    "    \n",
    "    B = np.repeat(x1[1], st).reshape(st, st).T        # Matriz de alfas \n",
    "\n",
    "    for i in range(st):\n",
    "        for j in range(st):\n",
    "            if i==j:\n",
    "                A[i, j] = 1 - (A[i, j] - 1)*(theta*lamb + gamma1)\n",
    "                B[i, j] = B[i, j] - 1\n",
    "            if i != j:\n",
    "                A[i, j] = A[i, j]*(theta*lamb + gamma1) \n",
    "            if j != 0:\n",
    "                A[i,j] = -1*A[i, j]\n",
    "    \n",
    "    N_i = np.log( N_if(x1) )     # Logaritmo de N_i\n",
    "    C = np.log(x1[1])           # Logaritmo dos alfas\n",
    "    D = np.dot(B, N_i) + C     # produto matricial  \n",
    "    \n",
    "    sol = np.linalg.solve(A, D)    # Resolvendo o sistema  A w = D\n",
    "\n",
    "    return sol\n"
   ]
  },
  {
   "cell_type": "code",
   "execution_count": null,
   "metadata": {},
   "outputs": [],
   "source": []
  },
  {
   "cell_type": "code",
   "execution_count": null,
   "metadata": {},
   "outputs": [],
   "source": []
  },
  {
   "cell_type": "code",
   "execution_count": 71,
   "metadata": {},
   "outputs": [],
   "source": [
    "# solver para o sistema linear\n",
    "\n",
    "def solver(x1, st):\n",
    "    global w\n",
    "    w_n = [\"w\" + str(i) for i in range(1,st+1)]\n",
    "    pars(st)\n",
    "    s = sf()\n",
    "    w = np.exp(lin_sys(x1))\n",
    "    print('Salários')\n",
    "    for i in range(st):\n",
    "        print(f'{w_n[i]} = { np.round(w[i], 4) }')\n",
    "    N_i = N_if(x1)\n",
    "    return w"
   ]
  },
  {
   "cell_type": "code",
   "execution_count": 78,
   "metadata": {},
   "outputs": [
    {
     "name": "stdout",
     "output_type": "stream",
     "text": [
      "Salários\n",
      "w1 = 0.8282\n",
      "w2 = 1.9445\n",
      "w3 = 1.9825\n",
      "w4 = 1.4417\n",
      "w5 = 1.0951\n",
      "w6 = 2.2319\n",
      "w7 = 4.8657\n",
      "w8 = 1.043\n",
      "w9 = 1.2748\n",
      "w10 = 0.8875\n"
     ]
    },
    {
     "data": {
      "text/plain": [
       "array([0.82823025, 1.94451555, 1.98247029, 1.44174775, 1.09513458,\n",
       "       2.231942  , 4.86570162, 1.04302542, 1.2748244 , 0.88745556])"
      ]
     },
     "execution_count": 78,
     "metadata": {},
     "output_type": "execute_result"
    }
   ],
   "source": [
    "st = 10\n",
    "x1 = taus2(st)\n",
    "solver(x1, st)\n",
    "\n"
   ]
  },
  {
   "cell_type": "code",
   "execution_count": 9,
   "metadata": {},
   "outputs": [],
   "source": [
    "# capital humano de cada setor\n",
    "N_i = N_if(x1)\n",
    "\n",
    "H_i = np.multiply(N_i, np.power(w, gamma1) ) "
   ]
  },
  {
   "cell_type": "code",
   "execution_count": 10,
   "metadata": {},
   "outputs": [],
   "source": [
    "# produto da economia\n",
    "\n",
    "Y = np.prod(np.power(H_i, x1[1] ))"
   ]
  },
  {
   "cell_type": "code",
   "execution_count": 11,
   "metadata": {},
   "outputs": [],
   "source": [
    "def w_til_f(x1):\n",
    "    A = np.multiply(np.power((1 + x1[0]), -eta), w )\n",
    "    S = np.multiply(np.power(s, phi), np.power((1 - s), ((1-eta)/beta) ) )\n",
    "    \n",
    "    w_til = np.multiply(psi, np.multiply(A, S) )\n",
    "    \n",
    "    return w_til\n"
   ]
  },
  {
   "cell_type": "code",
   "execution_count": null,
   "metadata": {},
   "outputs": [],
   "source": []
  },
  {
   "cell_type": "code",
   "execution_count": 12,
   "metadata": {},
   "outputs": [],
   "source": [
    "def p_i_f(x1):\n",
    "    w_til = w_til_f(x1)\n",
    "    p_i =  np.power(w_til, theta)/ np.sum( np.power(w_til, theta) ) \n",
    "    \n",
    "    return p_i\n",
    "    "
   ]
  },
  {
   "cell_type": "code",
   "execution_count": null,
   "metadata": {},
   "outputs": [],
   "source": [
    "    "
   ]
  },
  {
   "cell_type": "code",
   "execution_count": 13,
   "metadata": {},
   "outputs": [],
   "source": [
    "def W_i_f(x1):\n",
    "    w_til = w_til_f(x1)\n",
    "\n",
    "    S_wtil = np.power((np.sum( np.power(w_til, theta) ) ), (kappa/theta) )\n",
    "    S = np.power((1-s), (-1/beta))\n",
    "    W_i = 1/kappa*np.multiply(np.multiply(S, S_wtil), G ) \n",
    "    \n",
    "    return W_i\n",
    "    \n",
    "    "
   ]
  },
  {
   "cell_type": "code",
   "execution_count": 14,
   "metadata": {},
   "outputs": [
    {
     "data": {
      "text/plain": [
       "array([4.8222433 , 4.0644989 , 5.92482821, 6.7870404 , 5.77080375,\n",
       "       6.00280416, 4.02986311, 6.0095833 , 7.42605465, 7.16483302])"
      ]
     },
     "execution_count": 14,
     "metadata": {},
     "output_type": "execute_result"
    }
   ],
   "source": [
    "W_i_f(x1)"
   ]
  },
  {
   "cell_type": "code",
   "execution_count": 84,
   "metadata": {},
   "outputs": [],
   "source": [
    "## Dados fake\n",
    "\n",
    "np.random.seed(20)\n",
    "a = np.random.rand(st)\n",
    "p_s = a/np.sum(a)\n",
    "p_s = p_s[1:st]\n",
    "\n",
    "W_s = np.random.uniform(low=0.05, high=10, size=(st))\n",
    "\n",
    "\n",
    "\n"
   ]
  },
  {
   "cell_type": "code",
   "execution_count": 90,
   "metadata": {},
   "outputs": [],
   "source": [
    "\n",
    "def obj2(x1):       \n",
    "    x1 = x1.reshape((2, st)) \n",
    "    x1[0, 0] = 1000\n",
    "#    x1[1] = x1[1]/np.sum(x1[1])\n",
    "   \n",
    "    W_i = W_i_f(x1) \n",
    "    p_i = p_i_f(x1)   \n",
    "    p_i = p_i[1:st]\n",
    "    \n",
    "    D =   (np.power(np.divide( (W_i - W_s), W_s ), 2)).sum() + (np.power(np.divide( (p_i - p_s), p_s ), 2)).sum() \n",
    "    D = np.log(D)    \n",
    "    return D\n"
   ]
  },
  {
   "cell_type": "code",
   "execution_count": 91,
   "metadata": {},
   "outputs": [
    {
     "data": {
      "text/plain": [
       "5.307539855469244"
      ]
     },
     "execution_count": 91,
     "metadata": {},
     "output_type": "execute_result"
    }
   ],
   "source": [
    "obj2(x1)"
   ]
  },
  {
   "cell_type": "code",
   "execution_count": 92,
   "metadata": {},
   "outputs": [],
   "source": [
    "Bd = ((-0.99, 100000), )*st + ((0, 1), )*st\n",
    "Bd = np.array(Bd, dtype=object)\n",
    "\n"
   ]
  },
  {
   "cell_type": "code",
   "execution_count": 93,
   "metadata": {},
   "outputs": [
    {
     "name": "stdout",
     "output_type": "stream",
     "text": [
      "\u001b[1;033mObjetivo: 4.81011, iter: 1\n",
      "\u001b[1;033mObjetivo: 3.73801, iter: 2\n",
      "\u001b[1;033mObjetivo: 3.71357, iter: 3\n",
      "\u001b[1;033mObjetivo: 3.7032, iter: 4\n",
      "\u001b[1;033mObjetivo: 3.70153, iter: 5\n",
      "\u001b[1;033mObjetivo: 3.7013, iter: 6\n",
      "\u001b[1;033mObjetivo: 3.7013, iter: 7\n",
      "\u001b[1;033mObjetivo: 3.70129, iter: 8\n",
      "\u001b[1;033mObjetivo: 3.70127, iter: 9\n",
      "\u001b[1;033mObjetivo: 3.70123, iter: 10\n",
      "\u001b[1;033mObjetivo: 3.70111, iter: 11\n",
      "\u001b[1;033mObjetivo: 3.70078, iter: 12\n",
      "\u001b[1;033mObjetivo: 3.69992, iter: 13\n",
      "\u001b[1;033mObjetivo: 3.69766, iter: 14\n",
      "\u001b[1;033mObjetivo: 3.69149, iter: 15\n",
      "\u001b[1;033mObjetivo: 3.67642, iter: 16\n",
      "\u001b[1;033mObjetivo: 3.6435, iter: 17\n",
      "\u001b[1;033mObjetivo: 3.59221, iter: 18\n",
      "\u001b[1;033mObjetivo: 3.55597, iter: 19\n",
      "\u001b[1;033mObjetivo: 3.52351, iter: 20\n",
      "\u001b[1;033mObjetivo: 3.49148, iter: 21\n",
      "\u001b[1;033mObjetivo: 3.34553, iter: 22\n",
      "\u001b[1;033mObjetivo: 3.34537, iter: 23\n",
      "\u001b[1;033mObjetivo: 3.07829, iter: 24\n",
      "\u001b[1;033mObjetivo: 3.01315, iter: 25\n",
      "\u001b[1;033mObjetivo: 2.86787, iter: 26\n",
      "\u001b[1;033mObjetivo: 2.84127, iter: 27\n",
      "\u001b[1;033mObjetivo: 2.5785, iter: 28\n",
      "\u001b[1;033mObjetivo: 2.51619, iter: 29\n",
      "\u001b[1;033mObjetivo: 2.51539, iter: 30\n",
      "\u001b[1;033mObjetivo: 2.48709, iter: 31\n",
      "\u001b[1;033mObjetivo: 2.46043, iter: 32\n",
      "\u001b[1;033mObjetivo: 2.45225, iter: 33\n",
      "\u001b[1;033mObjetivo: 2.43535, iter: 34\n",
      "\u001b[1;033mObjetivo: 2.39716, iter: 35\n",
      "\u001b[1;033mObjetivo: 2.38098, iter: 36\n",
      "\u001b[1;033mObjetivo: 2.37826, iter: 37\n",
      "\u001b[1;033mObjetivo: 2.37534, iter: 38\n",
      "\u001b[1;033mObjetivo: 2.37382, iter: 39\n",
      "\u001b[1;033mObjetivo: 2.37303, iter: 40\n",
      "\u001b[1;033mObjetivo: 2.3716, iter: 41\n",
      "\u001b[1;033mObjetivo: 2.36885, iter: 42\n",
      "\u001b[1;033mObjetivo: 2.3687, iter: 43\n",
      "\u001b[1;033mObjetivo: 2.36834, iter: 44\n",
      "\u001b[1;033mObjetivo: 2.36766, iter: 45\n",
      "\u001b[1;033mObjetivo: 2.36654, iter: 46\n",
      "\u001b[1;033mObjetivo: 2.36509, iter: 47\n",
      "\u001b[1;033mObjetivo: 2.36214, iter: 48\n",
      "\u001b[1;033mObjetivo: 2.33946, iter: 49\n",
      "\u001b[1;033mObjetivo: 2.33788, iter: 50\n",
      "\u001b[1;033mObjetivo: 2.3311, iter: 51\n",
      "\u001b[1;033mObjetivo: 2.32555, iter: 52\n",
      "\u001b[1;033mObjetivo: 2.29892, iter: 53\n",
      "\u001b[1;033mObjetivo: 1.98381, iter: 54\n",
      "\u001b[1;033mObjetivo: 1.95004, iter: 55\n",
      "\u001b[1;033mObjetivo: 1.94346, iter: 56\n",
      "\u001b[1;033mObjetivo: 1.941, iter: 57\n",
      "\u001b[1;033mObjetivo: 1.93393, iter: 58\n",
      "\u001b[1;033mObjetivo: 1.92476, iter: 59\n",
      "\u001b[1;033mObjetivo: 1.91726, iter: 60\n",
      "\u001b[1;033mObjetivo: 1.91182, iter: 61\n",
      "\u001b[1;033mObjetivo: 1.90654, iter: 62\n",
      "\u001b[1;033mObjetivo: 1.89862, iter: 63\n",
      "\u001b[1;033mObjetivo: 1.89364, iter: 64\n",
      "\u001b[1;033mObjetivo: 1.89189, iter: 65\n",
      "\u001b[1;033mObjetivo: 1.89156, iter: 66\n",
      "\u001b[1;033mObjetivo: 1.8915, iter: 67\n",
      "\u001b[1;033mObjetivo: 1.8915, iter: 68\n",
      "\u001b[1;033mObjetivo: 1.89149, iter: 69\n",
      "\u001b[1;033mObjetivo: 1.89149, iter: 70\n",
      "\u001b[1;033mObjetivo: 1.89148, iter: 71\n",
      "\u001b[1;033mObjetivo: 1.89148, iter: 72\n",
      "\u001b[1;033mObjetivo: 1.89148, iter: 73\n",
      "\u001b[1;033mObjetivo: 1.89148, iter: 74\n",
      "\u001b[1;033mObjetivo: 1.89148, iter: 75\n",
      "\u001b[1;033mObjetivo: 1.89148, iter: 76\n",
      "\u001b[1;033mObjetivo: 1.89148, iter: 77\n",
      "\u001b[1;033mObjetivo: 1.89148, iter: 78\n",
      "\u001b[1;033mObjetivo: 1.89148, iter: 79\n",
      "\u001b[1;033mObjetivo: 1.89148, iter: 80\n",
      "\u001b[1;033mObjetivo: 1.89148, iter: 81\n",
      "\u001b[1;033mObjetivo: 1.89148, iter: 82\n",
      "\u001b[1;033mObjetivo: 1.89148, iter: 83\n",
      "\u001b[1;033mObjetivo: 1.89148, iter: 84\n",
      "\u001b[1;033mObjetivo: 1.89148, iter: 85\n",
      "\u001b[1;033mObjetivo: 1.89148, iter: 86\n",
      "\u001b[1;033mObjetivo: 1.89148, iter: 87\n",
      "\u001b[1;033mObjetivo: 1.89148, iter: 88\n",
      "\u001b[1;033mObjetivo: 1.89148, iter: 89\n",
      "\u001b[1;033mObjetivo: 1.89148, iter: 90\n",
      "\u001b[1;033mObjetivo: 1.89148, iter: 91\n",
      "\u001b[1;033mObjetivo: 1.89148, iter: 92\n",
      "\u001b[1;033mObjetivo: 1.89148, iter: 93\n",
      "\u001b[1;033mObjetivo: 1.89148, iter: 94\n",
      "\u001b[1;033mObjetivo: 1.89148, iter: 95\n",
      "\u001b[1;033mObjetivo: 1.89148, iter: 96\n",
      "\u001b[1;033mObjetivo: 1.89148, iter: 97\n",
      "\u001b[1;033mObjetivo: 1.89148, iter: 98\n",
      "\u001b[1;033mObjetivo: 1.89148, iter: 99\n",
      "\u001b[1;033mObjetivo: 1.89148, iter: 100\n",
      "\u001b[1;033mObjetivo: 1.89148, iter: 101\n",
      "\u001b[1;033mObjetivo: 1.89148, iter: 102\n",
      "\u001b[1;033mObjetivo: 1.89148, iter: 103\n",
      "\u001b[1;033mObjetivo: 1.89148, iter: 104\n",
      "\u001b[1;033mObjetivo: 1.89148, iter: 105\n",
      "\u001b[1;033mObjetivo: 1.89148, iter: 106\n",
      "\u001b[1;033mObjetivo: 1.89148, iter: 107\n",
      "\u001b[1;033mObjetivo: 1.89148, iter: 108\n",
      "\u001b[1;033mObjetivo: 1.89148, iter: 109\n",
      "\u001b[1;033mObjetivo: 1.89148, iter: 110\n",
      "\u001b[1;033mObjetivo: 1.89148, iter: 111\n",
      "\u001b[1;033mObjetivo: 1.89148, iter: 112\n",
      "Wall time: 336 ms\n"
     ]
    }
   ],
   "source": [
    "x1 = taus2(st)\n",
    "\n",
    "cc = 0\n",
    "def callback(x):\n",
    "    global cc\n",
    "    cc += 1\n",
    "    fobj = obj2(x)\n",
    "    print(f'\\033[1;033mObjetivo: {np.around(fobj, 5)}, iter: {cc}') \n",
    "\n",
    "%time sol= minimize(obj2, x1,  method='L-BFGS-B', callback=callback, bounds=Bd, tol=1e-100, options={'maxiter':1e4, 'maxfun':1e10000,  'maxcor': 1000, 'eps': 1e-9,})\n",
    " "
   ]
  },
  {
   "cell_type": "code",
   "execution_count": 94,
   "metadata": {},
   "outputs": [
    {
     "data": {
      "text/plain": [
       "array([  100.        ,   156.18716982,    22.30459847,     3.36067444,\n",
       "         116.32135204,    48.35837082, 19917.31308162,     2.37483195,\n",
       "           1.54283635,     2.04611204,     0.09777858,     0.14630357,\n",
       "           0.13804288,     0.13608277,     0.05339823,     0.10890253,\n",
       "           0.08167879,     0.10212094,     0.04155527,     0.09413643])"
      ]
     },
     "execution_count": 94,
     "metadata": {},
     "output_type": "execute_result"
    }
   ],
   "source": [
    "sol.x"
   ]
  },
  {
   "cell_type": "code",
   "execution_count": null,
   "metadata": {},
   "outputs": [],
   "source": []
  },
  {
   "cell_type": "code",
   "execution_count": null,
   "metadata": {},
   "outputs": [],
   "source": [
    "\n",
    "x0 = np.ndarray.flatten(x1)\n",
    "\n",
    "const =  {'type': 'eq', 'fun': lambda x0: np.sum(x0[(st+1):]) - 1}\n",
    "\n",
    "sol = minimize(obj2, x0,  method='trust-constr', bounds=Bd,\n",
    "         constraints= const,\n",
    "         options={'maxiter':1e5, 'verbose': 2,\n",
    "                 'xtol': 1e-18,\n",
    "                  'gtol': 1e-18})\n"
   ]
  },
  {
   "cell_type": "code",
   "execution_count": 96,
   "metadata": {},
   "outputs": [],
   "source": [
    "x0 = np.ndarray.flatten(x1)\n",
    "\n",
    "sol = minimize(obj2, x0,  method='SLSQP', bounds=Bd,\n",
    "         constraints= const,\n",
    "         options={'maxiter':1e5}) "
   ]
  },
  {
   "cell_type": "code",
   "execution_count": 97,
   "metadata": {},
   "outputs": [
    {
     "data": {
      "text/plain": [
       "     fun: 3.7016221954091417\n",
       "     jac: array([ 0.        , -0.0003126 ,  0.00000194,  0.00000054,  0.0000014 ,\n",
       "        0.00000671, -0.00046504,  0.00000125,  0.00000033,  0.00000626,\n",
       "        0.        ,  0.        ,  0.        ,  0.        ,  0.        ,\n",
       "        0.        ,  0.        ,  0.        ,  0.        ,  0.        ])\n",
       " message: 'Optimization terminated successfully'\n",
       "    nfev: 515\n",
       "     nit: 23\n",
       "    njev: 23\n",
       "  status: 0\n",
       " success: True\n",
       "       x: array([100.        ,   1.48158152, 707.80388326, 620.04849408,\n",
       "       777.58249602, 458.79840536, 382.28683738, 291.1780597 ,\n",
       "       556.78667344,  83.20750439,   0.09777858,   0.15716786,\n",
       "         0.14890717,   0.14694706,   0.06426252,   0.11976682,\n",
       "         0.09254308,   0.11298523,   0.05241955,   0.10500072])"
      ]
     },
     "execution_count": 97,
     "metadata": {},
     "output_type": "execute_result"
    }
   ],
   "source": [
    "sol\n"
   ]
  }
 ],
 "metadata": {
  "kernelspec": {
   "display_name": "Python 3",
   "language": "python",
   "name": "python3"
  },
  "language_info": {
   "codemirror_mode": {
    "name": "ipython",
    "version": 3
   },
   "file_extension": ".py",
   "mimetype": "text/x-python",
   "name": "python",
   "nbconvert_exporter": "python",
   "pygments_lexer": "ipython3",
   "version": "3.8.3"
  }
 },
 "nbformat": 4,
 "nbformat_minor": 4
}
